{
 "cells": [
  {
   "cell_type": "markdown",
   "id": "3420575b-4d00-458b-aa0e-7030008ccd53",
   "metadata": {},
   "source": [
    "## Creating an index and populating it with documents using Milvus and Nomic AI Embeddings\n",
    "\n",
    "Simple example on how to ingest PDF documents, then web pages content into a Milvus VectorStore. . In this example, the embeddings are the fully open source ones released by NomicAI, [nomic-embed-text-v1](https://huggingface.co/nomic-ai/nomic-embed-text-v1).\n",
    "\n",
    "As described in [this blog post](https://blog.nomic.ai/posts/nomic-embed-text-v1), those embeddings feature a \"8192 context-length that outperforms OpenAI Ada-002 and text-embedding-3-small on both short and long context tasks\". In additions, they are:\n",
    "\n",
    "- Open source\n",
    "- Open data\n",
    "- Open training code\n",
    "- Fully reproducible and auditable\n",
    "\n",
    "Requirements:\n",
    "- A Milvus instance, either standalone or cluster."
   ]
  },
  {
   "cell_type": "markdown",
   "id": "8308b229-b520-4e82-a783-eb921bb955e7",
   "metadata": {},
   "source": [
    "### Needed packages and imports"
   ]
  },
  {
   "cell_type": "code",
   "execution_count": 1,
   "id": "91e41b41-f60a-4b0f-91a1-cd273b60f21b",
   "metadata": {
    "tags": []
   },
   "outputs": [
    {
     "name": "stdout",
     "output_type": "stream",
     "text": [
      "\n",
      "\u001b[1m[\u001b[0m\u001b[34;49mnotice\u001b[0m\u001b[1;39;49m]\u001b[0m\u001b[39;49m A new release of pip available: \u001b[0m\u001b[31;49m22.2.2\u001b[0m\u001b[39;49m -> \u001b[0m\u001b[32;49m24.2\u001b[0m\n",
      "\u001b[1m[\u001b[0m\u001b[34;49mnotice\u001b[0m\u001b[1;39;49m]\u001b[0m\u001b[39;49m To update, run: \u001b[0m\u001b[32;49mpip install --upgrade pip\u001b[0m\n"
     ]
    }
   ],
   "source": [
    "!pip install -q einops==0.7.0 langchain==0.1.9 pypdf==4.0.2 pymilvus==2.3.6 sentence-transformers==2.4.0 grpcio grpcio-reflection"
   ]
  },
  {
   "cell_type": "code",
   "execution_count": 2,
   "id": "600cd763-6ecc-4c77-89c0-47108c31c44e",
   "metadata": {
    "tags": []
   },
   "outputs": [],
   "source": [
    "import requests\n",
    "import os\n",
    "from langchain.document_loaders import PyPDFDirectoryLoader, WebBaseLoader\n",
    "from langchain.text_splitter import RecursiveCharacterTextSplitter\n",
    "from langchain.embeddings.huggingface import HuggingFaceEmbeddings\n",
    "from langchain_community.vectorstores import Milvus\n",
    "from caikit_nlp_client import LangchainEmbeddings"
   ]
  },
  {
   "cell_type": "markdown",
   "id": "1a82063d-6153-4812-8977-042241736b53",
   "metadata": {},
   "source": [
    "### Base parameters, the Milvus connection info"
   ]
  },
  {
   "cell_type": "code",
   "execution_count": 3,
   "id": "417ed4a4-9418-4f48-bebd-ef0ea11ae434",
   "metadata": {
    "tags": []
   },
   "outputs": [],
   "source": [
    "MILVUS_HOST = \"vectordb-milvus.milvus.svc.cluster.local\"\n",
    "MILVUS_PORT = 19530\n",
    "MILVUS_USERNAME = os.getenv('MILVUS_USERNAME')\n",
    "MILVUS_PASSWORD = os.getenv('MILVUS_PASSWORD')\n",
    "MILVUS_COLLECTION = \"collection_nomicai_embeddings\""
   ]
  },
  {
   "cell_type": "markdown",
   "id": "f68f6785-480e-4519-be4f-8e1738dba4ca",
   "metadata": {},
   "source": [
    "## Initial index creation and document ingestion"
   ]
  },
  {
   "cell_type": "markdown",
   "id": "f8cff5f7-c509-48db-90b5-e15815b8b530",
   "metadata": {},
   "source": [
    "#### Download and load pdfs"
   ]
  },
  {
   "cell_type": "code",
   "execution_count": 4,
   "id": "bc4fe0db-f494-4cbd-9e97-8b6359a78cb7",
   "metadata": {
    "tags": []
   },
   "outputs": [],
   "source": [
    "product_version = 2.12\n",
    "documents = [\n",
    "    \"release_notes\",\n",
    "    \"introduction_to_red_hat_openshift_ai\",\n",
    "    \"getting_started_with_red_hat_openshift_ai_self-managed\",\n",
    "    \"openshift_ai_tutorial_-_fraud_detection_example\",\n",
    "    \"developing_a_model\",\n",
    "    \"integrating_data_from_amazon_s3\",\n",
    "    \"working_on_data_science_projects\",\n",
    "    \"serving_models\",\n",
    "    \"monitoring_data_science_models\",\n",
    "    \"managing_users\",\n",
    "    \"managing_resources\",\n",
    "    \"installing_and_uninstalling_openshift_ai_self-managed\",\n",
    "    \"installing_and_uninstalling_openshift_ai_self-managed_in_a_disconnected_environment\",\n",
    "    \"upgrading_openshift_ai_self-managed\",\n",
    "    \"upgrading_openshift_ai_self-managed_in_a_disconnected_environment\",   \n",
    "]\n",
    "\n",
    "pdfs = [f\"https://access.redhat.com/documentation/en-us/red_hat_openshift_ai_self-managed/{product_version}/pdf/{doc}/red_hat_openshift_ai_self-managed-{product_version}-{doc}-en-us.pdf\" for doc in documents]\n",
    "pdfs_to_urls = {f\"red_hat_openshift_ai_self-managed-{product_version}-{doc}-en-us\": f\"https://access.redhat.com/documentation/en-us/red_hat_openshift_ai_self-managed/{product_version}/html-single/{doc}/index\" for doc in documents}"
   ]
  },
  {
   "cell_type": "code",
   "execution_count": 5,
   "id": "3eea5acc-49df-41c9-a01a-0cdbca96e8e2",
   "metadata": {},
   "outputs": [
    {
     "name": "stdout",
     "output_type": "stream",
     "text": [
      "PDF dir found, skipping doc load\n"
     ]
    }
   ],
   "source": [
    "docs_dir = f\"rhoai-doc-{product_version}\"\n",
    "\n",
    "if not os.path.exists(docs_dir):\n",
    "    os.mkdir(docs_dir)\n",
    "    for pdf in pdfs:\n",
    "        try:\n",
    "            response = requests.get(pdf)\n",
    "        except:\n",
    "            print(f\"Skipped {pdf}\")\n",
    "            continue\n",
    "        if response.status_code!=200:\n",
    "            print(f\"Skipped {pdf}\")\n",
    "            continue  \n",
    "        with open(f\"{docs_dir}/{pdf.split('/')[-1]}\", 'wb') as f:\n",
    "            f.write(response.content)\n",
    "else:\n",
    "    print('PDF dir found, skipping doc load')"
   ]
  },
  {
   "cell_type": "code",
   "execution_count": 6,
   "id": "af4074d4-eff4-45b2-902d-ec8c075a83ef",
   "metadata": {
    "tags": []
   },
   "outputs": [],
   "source": [
    "pdf_folder_path = f\"./rhoai-doc-{product_version}\"\n",
    "\n",
    "pdf_loader = PyPDFDirectoryLoader(pdf_folder_path)\n",
    "pdf_docs = pdf_loader.load()"
   ]
  },
  {
   "cell_type": "markdown",
   "id": "cde7ed3a-0530-47a1-95c2-22db6c782a95",
   "metadata": {},
   "source": [
    "#### Inject metadata"
   ]
  },
  {
   "cell_type": "code",
   "execution_count": 7,
   "id": "702230f6-e6d3-44c7-a643-4996387606ff",
   "metadata": {
    "tags": []
   },
   "outputs": [],
   "source": [
    "from pathlib import Path\n",
    "\n",
    "for doc in pdf_docs:\n",
    "    doc.metadata[\"source\"] = pdfs_to_urls[Path(doc.metadata[\"source\"]).stem]"
   ]
  },
  {
   "cell_type": "markdown",
   "id": "dd511d44-2d92-47a0-9163-b25576c9557b",
   "metadata": {},
   "source": [
    "#### Load websites"
   ]
  },
  {
   "cell_type": "code",
   "execution_count": 8,
   "id": "8aebf003-d7ec-43ba-8e04-1931bcff2866",
   "metadata": {
    "tags": []
   },
   "outputs": [],
   "source": [
    "websites = [\n",
    "    \"https://ai-on-openshift.io/getting-started/openshift/\",\n",
    "    \"https://ai-on-openshift.io/getting-started/opendatahub/\",\n",
    "    \"https://ai-on-openshift.io/getting-started/openshift-ai/\",\n",
    "    \"https://ai-on-openshift.io/odh-rhoai/configuration/\",\n",
    "    \"https://ai-on-openshift.io/odh-rhoai/custom-notebooks/\",\n",
    "    \"https://ai-on-openshift.io/odh-rhoai/nvidia-gpus/\",\n",
    "    \"https://ai-on-openshift.io/odh-rhoai/custom-runtime-triton/\",\n",
    "    \"https://ai-on-openshift.io/odh-rhoai/openshift-group-management/\",\n",
    "    \"https://ai-on-openshift.io/tools-and-applications/minio/minio/\",\n",
    "    \"https://access.redhat.com/articles/7047935\",\n",
    "    \"https://access.redhat.com/articles/rhoai-supported-configs\",\n",
    "]"
   ]
  },
  {
   "cell_type": "code",
   "execution_count": 9,
   "id": "99f41110-8ca7-4d90-93b2-3b5021c894b8",
   "metadata": {
    "tags": []
   },
   "outputs": [],
   "source": [
    "website_loader = WebBaseLoader(websites)\n",
    "website_docs = website_loader.load()"
   ]
  },
  {
   "cell_type": "markdown",
   "id": "157ddd29-54b3-474a-9b10-2d274bc3254f",
   "metadata": {},
   "source": [
    "#### Merge both types of docs"
   ]
  },
  {
   "cell_type": "code",
   "execution_count": 10,
   "id": "8d361094-8b43-4351-8495-37628c35c42d",
   "metadata": {
    "tags": []
   },
   "outputs": [],
   "source": [
    "docs = pdf_docs + website_docs"
   ]
  },
  {
   "cell_type": "markdown",
   "id": "4198fe0a-38bf-4cd4-af7d-35b41c645edd",
   "metadata": {},
   "source": [
    "#### Split documents into chunks with some overlap"
   ]
  },
  {
   "cell_type": "code",
   "execution_count": 11,
   "id": "edba4a08-2194-4df1-9091-6f2b596757a1",
   "metadata": {
    "tags": []
   },
   "outputs": [
    {
     "data": {
      "text/plain": [
       "Document(page_content='Red Hat OpenShift AI Self-Managed\\n \\n2.12\\nGetting started with Red Hat OpenShift AI\\nSelf-Managed', metadata={'source': 'https://access.redhat.com/documentation/en-us/red_hat_openshift_ai_self-managed/2.12/html-single/getting_started_with_red_hat_openshift_ai_self-managed/index', 'page': 0})"
      ]
     },
     "execution_count": 11,
     "metadata": {},
     "output_type": "execute_result"
    }
   ],
   "source": [
    "text_splitter = RecursiveCharacterTextSplitter(chunk_size=126,\n",
    "                                               chunk_overlap=40)\n",
    "all_splits = text_splitter.split_documents(docs)\n",
    "all_splits[0]"
   ]
  },
  {
   "cell_type": "markdown",
   "id": "7ae7eae2-c670-4eb5-803b-b4d591fa83db",
   "metadata": {},
   "source": [
    "#### Create the index and ingest the documents"
   ]
  },
  {
   "cell_type": "code",
   "execution_count": 12,
   "id": "bbb6a3e3-5ccd-441e-b80d-427555d9e9f6",
   "metadata": {
    "tags": []
   },
   "outputs": [],
   "source": [
    "# If you don't want to use a GPU, you can remove the 'device': 'cuda' argument\n",
    "#model_kwargs = {'trust_remote_code': True, 'device': 'cuda'}\n",
    "#embeddings = HuggingFaceEmbeddings(\n",
    "#    model_name=\"nomic-ai/nomic-embed-text-v1\",\n",
    "#    model_kwargs=model_kwargs,\n",
    "#    show_progress=True\n",
    "#)\n",
    "\n",
    "#model = \"flan-t5-small-caikit\"\n",
    "#model_endpoint_url = \"https://caikit-flan-jary-wb.apps.jary-intel-opea.51ty.p1.openshiftapps.com\"\n",
    "model = \"all-MiniLM-L12-v2-caikit\"\n",
    "model_endpoint_url = \"https://caikit-nomic5-jary-wb.apps.jary-intel-opea.51ty.p1.openshiftapps.com\"\n",
    "token = '''\\\n",
    "Bearer eyJhbGciOiJSUzI1NiIsImtpZCI6IjZnRXdDUGJfbE44Q29tTWNER0ZtRWN2RE52REt2MlRPTE95TE1USGRYTzQifQ.eyJpc3MiOiJrdWJlcm5ldGVzL3\n",
    "NlcnZpY2VhY2NvdW50Iiwia3ViZXJuZXRlcy5pby9zZXJ2aWNlYWNjb3VudC9uYW1lc3BhY2UiOiJqYXJ5LXdiIiwia3ViZXJuZXRlcy5pby9zZXJ2aWNlYWNjb3\n",
    "VudC9zZWNyZXQubmFtZSI6ImRlZmF1bHQtbmFtZS1jYWlraXQtZmxhbi1zYSIsImt1YmVybmV0ZXMuaW8vc2VydmljZWFjY291bnQvc2VydmljZS1hY2NvdW50Lm\n",
    "5hbWUiOiJjYWlraXQtZmxhbi1zYSIsImt1YmVybmV0ZXMuaW8vc2VydmljZWFjY291bnQvc2VydmljZS1hY2NvdW50LnVpZCI6IjE2MGYzNTEzLTg4MTctNDRjMy\n",
    "05NjMxLWVkMDY1MzA5Zjc4YiIsInN1YiI6InN5c3RlbTpzZXJ2aWNlYWNjb3VudDpqYXJ5LXdiOmNhaWtpdC1mbGFuLXNhIn0.XFYak7zyQYIp9Q5SOZlopkzTCj\n",
    "Uei_zA9ITfZlpjkgrl74_tyH7DSl_AJIrMrjd689hjBNABU6tNJVlQGdGYljJzr2uYu57JujY2R6WO4X-pbvb6tyaG_nTq14DMzfgWZ4bT3hoH4elrQOAgMByT8k\n",
    "d4iJexawExzTgfWiyCvKKK6eYdUFmO7-BQKK3WrFMDvfAzfK8PtHaJFnze0yZZgSGZMzixqHIUPAogZPwcZg-G1JTwzUiC2Wm5TmdfLXwLsDOApUsfn3_HFgL3Li\n",
    "bNRPocgrjGMeh113j0O6m5dqw5RVrcRz_W8u1IycTOf-YEN2M2ak7HdJF5YB2i4ySK3RgCafXn5Re4kB2ieY0QNdvWOKo_ZPXpgwXA3iJ2P5s4fwq4g3xYvjCXIh\n",
    "HaDGlqPl49p2L5skKdL6gBiJYNCBcfpT9su1ZKROIIQ-Auv02szvBkN3E3WBWX--GuMYEFjY5xla4JoVwVp0pwCatkysCgMopI8Fk5vLzm9I6LMK_uY8iUVHa_EZ\n",
    "9hVBHBMkbXtoh-Icsm78uzcpuOfFEWx3DhTzr4Vau28jEiWwI2X0M5QcRJdHtb2rjczYfN8CxoAwVzAUZTAEihlVEsmcCy4ki-nFwfUKeYZIdJRK_YKGqkdKh8RL\n",
    "WeeCY5tn-qtM3QXb_u42epG84SRqt-9BXT1iU\n",
    "'''.replace('\\n', '')\n",
    "\n",
    "############################################################################################\n",
    "# TODO: COMPARE MY NEW EMBEDDINGS TO HF ONE FOR MISSING PARAMS / DIFFS?\n",
    "############################################################################################\n",
    "\n",
    "embeddings = LangchainEmbeddings(\n",
    "    token=token,\n",
    "    endpoint=model_endpoint_url,\n",
    "    model=model\n",
    ")\n",
    "\n",
    "db = Milvus(\n",
    "    embedding_function=embeddings,\n",
    "    connection_args={\"host\": MILVUS_HOST, \"port\": MILVUS_PORT, \"user\": MILVUS_USERNAME, \"password\": MILVUS_PASSWORD},\n",
    "    collection_name=MILVUS_COLLECTION,\n",
    "    metadata_field=\"metadata\",\n",
    "    text_field=\"page_content\",\n",
    "    auto_id=True,\n",
    "    drop_old=True\n",
    "    )"
   ]
  },
  {
   "cell_type": "code",
   "execution_count": 13,
   "id": "b6bf425b-dffd-4f42-9537-49d41383182d",
   "metadata": {
    "tags": []
   },
   "outputs": [
    {
     "name": "stderr",
     "output_type": "stream",
     "text": [
      "/opt/app-root/lib64/python3.9/site-packages/urllib3/connectionpool.py:1063: InsecureRequestWarning: Unverified HTTPS request is being made to host 'caikit-nomic5-jary-wb.apps.jary-intel-opea.51ty.p1.openshiftapps.com'. Adding certificate verification is strongly advised. See: https://urllib3.readthedocs.io/en/1.26.x/advanced-usage.html#ssl-warnings\n",
      "  warnings.warn(\n"
     ]
    },
    {
     "data": {
      "text/plain": [
       "[452551956821749113, 452551956821749114]"
      ]
     },
     "execution_count": 13,
     "metadata": {},
     "output_type": "execute_result"
    }
   ],
   "source": [
    "db.add_documents(all_splits[0:2])"
   ]
  },
  {
   "cell_type": "markdown",
   "id": "7a3d987b-8ebc-46ce-a206-48c1339b7a5b",
   "metadata": {},
   "source": [
    "#### Alternatively, add new documents"
   ]
  },
  {
   "cell_type": "code",
   "execution_count": 14,
   "id": "c37f227d-a13d-456c-b91b-3c203e62fc0f",
   "metadata": {},
   "outputs": [],
   "source": [
    "# If you don't want to use a GPU, you can remove the 'device': 'cuda' argument\n",
    "# model_kwargs = {'trust_remote_code': True, 'device': 'cuda'}\n",
    "# embeddings = HuggingFaceEmbeddings(\n",
    "#     model_name=\"nomic-ai/nomic-embed-text-v1\",\n",
    "#     model_kwargs=model_kwargs,\n",
    "#     show_progress=True\n",
    "# )\n",
    "\n",
    "# db = Milvus(\n",
    "#     embedding_function=embeddings,\n",
    "#     connection_args={\"host\": MILVUS_HOST, \"port\": MILVUS_PORT, \"user\": MILVUS_USERNAME, \"password\": MILVUS_PASSWORD},\n",
    "#     collection_name=MILVUS_COLLECTION,\n",
    "#     metadata_field=\"metadata\",\n",
    "#     text_field=\"page_content\",\n",
    "#     auto_id=True,\n",
    "#     drop_old=False\n",
    "#     )\n",
    "\n",
    "# db.add_documents(all_splits)"
   ]
  },
  {
   "cell_type": "markdown",
   "id": "dae3b458-4979-46df-8493-7496764a2568",
   "metadata": {},
   "source": [
    "#### Test query"
   ]
  },
  {
   "cell_type": "code",
   "execution_count": 15,
   "id": "489c6e6d-c42c-4de4-87cf-8edfd0e63da3",
   "metadata": {
    "tags": []
   },
   "outputs": [
    {
     "name": "stderr",
     "output_type": "stream",
     "text": [
      "/opt/app-root/lib64/python3.9/site-packages/urllib3/connectionpool.py:1063: InsecureRequestWarning: Unverified HTTPS request is being made to host 'caikit-nomic5-jary-wb.apps.jary-intel-opea.51ty.p1.openshiftapps.com'. Adding certificate verification is strongly advised. See: https://urllib3.readthedocs.io/en/1.26.x/advanced-usage.html#ssl-warnings\n",
      "  warnings.warn(\n",
      "RPC error: [search], <ParamError: (code=1, message=`search_data` value [dict_values([{'data': {'values': [0.014584872871637344, -0.06318628787994385, 0.04656320810317993, 0.0041893115267157555, 0.055654026567935944, -0.023691782727837563, -0.035480696707963943, -0.024649253115057945, 0.03860316798090935, -0.04051440954208374, -0.09852523356676102, -0.0668564885854721, -0.05555010586977005, -0.022397201508283615, 0.05034366250038147, -0.0031785545870661736, -0.002295487094670534, 0.06766505539417267, 0.00147917284630239, -0.008932314813137054, -0.01815999299287796, 0.008372127078473568, -0.005877046380192041, -0.06242193281650543, -0.11136991530656815, 0.06901022791862488, 0.020539313554763794, -0.0208711177110672, 0.06108584254980087, 0.031310658901929855, 0.006186673417687416, 0.02889353595674038, -0.0731697529554367, 0.016533030197024345, 0.041661959141492844, 0.02147749252617359, 0.0063850064761936665, -0.02691182866692543, 0.0011352173751220107, -0.08928168565034866, 0.03256421908736229, 0.06183486804366112, 0.009485910646617413, 0.06715354323387146, 0.0010236738016828895, -0.08174418658018112, -0.03011239506304264, 0.03800399601459503, 0.05713973566889763, -0.08928481489419937, -0.05991650000214577, 0.012595375999808311, 0.016711987555027008, 0.03370453044772148, -0.011783143505454063, -0.10805878043174744, 0.05128142237663269, -0.06735710054636002, -0.05274287983775139, -0.11574730277061462, 0.02844822220504284, -0.02746553160250187, 0.017946258187294006, -0.003775320015847683, 0.0393647737801075, -0.06837623566389084, 0.03376587852835655, 0.04379250854253769, 0.1569635272026062, -0.03761008754372597, -0.03829736262559891, -0.00125018204562366, 0.00467340461909771, -0.009071770124137402, 0.026751572266221046, 0.019619392231106758, 0.014807931147515774, -0.031202001497149467, -0.012176277115941048, -0.03639766946434975, -0.04712605103850365, -0.04259219765663147, 0.01858421228826046, 0.009825349785387516, 0.07071541994810104, 0.07400719821453094, -0.05820853263139725, 0.020972024649381638, 0.07550183683633804, 0.04037749394774437, -0.01543225347995758, 0.014572113752365112, -0.00942428782582283, -0.06688651442527771, 0.10454128682613373, 0.013365802355110645, 0.06941507011651993, -0.0736028179526329, 0.015428081154823303, 0.016179386526346207, 0.001234943512827158, -0.043790362775325775, -0.02884799800813198, 0.04575164243578911, -0.005305311176925898, 0.02328507974743843, -0.02936409041285515, 0.03720063343644142, -0.05117899179458618, -0.03842052444815636, 0.01352866180241108, 0.03587675839662552, 0.04136205464601517, 0.055047035217285156, 0.0142186488956213, 0.07815283536911011, -0.053977712988853455, -0.056122906506061554, -0.13236966729164124, 0.054615121334791183, -0.03248252347111702, 0.002509210491552949, -0.006499790120869875, 0.0988859012722969, 0.061471909284591675, -0.09130871295928955, -0.01921354979276657, -0.017373396083712578, 0.06439381837844849, -0.005483126733452082, 0.003399729495868087, -0.08230875432491302, 0.0437166690826416, 0.012396786361932755, 0.020581427961587906, -0.012061962857842445, -0.01756710186600685, 0.046470437198877335, 0.013456419110298157, 0.1026584655046463, -0.0667569488286972, 0.06711674481630325, 0.014108897186815739, -0.09340624511241913, 0.061370521783828735, -0.0048665013164281845, 0.00933636724948883, -0.005139284301549196, 0.04851497337222099, -0.05957512557506561, -0.009987762197852135, -0.03106587752699852, 0.00833495706319809, 0.06600100547075272, 0.01869024708867073, 0.008592687547206879, 0.054032836109399796, 0.03342051804065704, -0.025271669030189514, 0.07631026208400726, -0.034227803349494934, 0.06339805573225021, 0.02995457500219345, 0.002674761228263378, -0.036314092576503754, -0.06542003154754639, 0.05833638086915016, 0.07301187515258789, -0.00044458996853791177, 0.024072011932730675, 0.054900798946619034, -0.021689780056476593, -0.03487660363316536, -0.05602489784359932, 0.015433670952916145, -0.054005060344934464, -0.025644799694418907, -0.07043884694576263, -0.09363314509391785, 0.0004348485090304166, -0.012056720443069935, -0.09290433675050735, -0.06256331503391266, -0.07590273767709732, 0.04167597368359566, 0.007900455966591835, 0.0064818221144378185, 0.053002797067165375, -0.06750011444091797, -0.04483967274427414, -0.003854323411360383, 0.0312756709754467, -0.03812343627214432, 0.013369910418987274, -0.018640024587512016, -0.03937136381864548, -0.016028963029384613, 0.014098362997174263, -0.05233175680041313, 0.11216506361961365, -0.051747702062129974, 0.010560144670307636, 0.010651644319295883, 0.014653826132416725, -0.12515850365161896, -0.021001916378736496, -0.06555647403001785, 0.01375874038785696, 0.0016723958542570472, 0.05002404376864433, 0.008798393420875072, 0.026508741080760956, -0.035833388566970825, -0.002590681193396449, 0.08434350788593292, 0.027569904923439026, -0.06263944506645203, 0.028942950069904327, -0.02389315515756607, 0.016674384474754333, 0.043256741017103195, -0.00580583093687892, -0.061235301196575165, 1.6057734050232315e-33, -0.1492091566324234, -0.06065739691257477, -0.0023869825527071953, 0.09895540028810501, -0.0045413370244205, -0.06544184684753418, 0.028065068647265434, 0.058206818997859955, 0.05781853199005127, -0.03447922319173813, 0.016592135652899742, 0.06482477486133575, -0.04064421355724335, -0.07765158265829086, -0.07646887004375458, 0.007588179782032967, 0.0658290833234787, 0.049890872091054916, -0.02769753336906433, 0.02145177498459816, -0.004575575701892376, 0.023757895454764366, -0.03729231283068657, -0.05160095915198326, -0.03350529447197914, 0.10382034629583359, -0.0140005424618721, -0.05979413166642189, -0.0174234751611948, -0.048489656299352646, 0.019399244338274002, 0.10987498611211777, -0.05924583971500397, -0.03348465636372566, 0.029603581875562668, -0.0353844091296196, -0.003685267874971032, -0.024675825610756874, -0.03299764543771744, -0.05468814820051193, 0.10971824824810028, 0.010882362723350525, -0.04706621170043945, 0.04657239839434624, -0.034296467900276184, 0.03442617878317833, -0.0496404692530632, 0.014585250988602638, -0.012121649459004402, -0.13285408914089203, 0.047050029039382935, -0.02071719616651535, 0.06001737341284752, 0.014574199914932251, 0.008911359123885632, 0.002286734525114298, 0.04716602340340614, 0.03438242897391319, -0.06079953536391258, 0.014079793356359005, 0.03465615212917328, 0.04144585132598877, -0.0891789123415947, -0.0566045381128788, -0.0835319384932518, -0.08375360816717148, 0.02238568291068077, 0.05881341174244881, 0.039812132716178894, -0.05469474941492081, 0.05280223861336708, -0.009554049000144005, 0.11812502890825272, 0.053988274186849594, -0.05013333633542061, -0.017728354781866074, -0.015345875173807144, -0.006963836960494518, 0.047857291996479034, 0.04317903891205788, -0.0010581979295238853, -0.0587613545358181, 0.018984945490956306, -0.011532309465110302, 0.11344951391220093, 0.03621669486165047, -0.00383434584364295, -0.06820447742938995, 0.0132405124604702, 0.016602393239736557, -0.09857430309057236, 0.07078862190246582, 0.021691441535949707, -0.001023370074108243, 0.04721171781420708, 3.852177859996369e-32, -0.006423229817301035, 0.033488254994153976, 0.014528268948197365, 0.04720699414610863, -0.0929436907172203, -0.019785258919000626, -0.09689337760210037, 0.034317970275878906, 0.03616931289434433, -0.09267346560955048, 0.038904737681150436, -0.05591494217514992, 0.0562567338347435, -0.08508827537298203, 0.02379368059337139, 0.028874216601252556, 0.010712353512644768, 0.10465926676988602, -0.023036032915115356, -0.055224839597940445, -0.0855826810002327, 0.0920143872499466, 0.012590007856488228, 0.0017466493882238865, -0.05087079107761383, -0.037898723036050797, 0.04480414092540741, -0.03464238718152046, 0.0685521811246872, 0.035517800599336624, 0.05225042253732681, -0.02770010009407997, 0.017395706847310066, 0.08678565919399261, 0.014880580827593803, 0.07472119480371475, -0.0646403357386589, 0.10784274339675903, 0.10158834606409073, -0.04599706456065178, -0.006602074485272169, 0.02894851565361023, -0.03664414584636688, -0.022297361865639687, 0.008166681975126266, -0.04378227889537811, -0.015524359419941902, -0.09372594207525253, -0.0029912840109318495, 0.08970669656991959, 0.05921768769621849, 0.013423459604382515, 0.046341121196746826, -0.03201599046587944, 0.09078036993741989, 0.002246722113341093, 0.016627119854092598, -0.0438307486474514, 0.014466634951531887, -0.04049038514494896, 0.027568358927965164, -0.02540023997426033, -0.0029951739124953747, -0.01858036406338215]}}, {'name': 'EmbeddingModule', 'version': '0.0.1'}, 18])] is illegal)>, <Time:{'RPC start': '2024-09-16 16:32:49.156603', 'RPC error': '2024-09-16 16:32:49.157183'}>\n"
     ]
    },
    {
     "name": "stdout",
     "output_type": "stream",
     "text": [
      "single-end::<class 'dict_values'>\n"
     ]
    },
    {
     "ename": "ParamError",
     "evalue": "<ParamError: (code=1, message=`search_data` value [dict_values([{'data': {'values': [0.014584872871637344, -0.06318628787994385, 0.04656320810317993, 0.0041893115267157555, 0.055654026567935944, -0.023691782727837563, -0.035480696707963943, -0.024649253115057945, 0.03860316798090935, -0.04051440954208374, -0.09852523356676102, -0.0668564885854721, -0.05555010586977005, -0.022397201508283615, 0.05034366250038147, -0.0031785545870661736, -0.002295487094670534, 0.06766505539417267, 0.00147917284630239, -0.008932314813137054, -0.01815999299287796, 0.008372127078473568, -0.005877046380192041, -0.06242193281650543, -0.11136991530656815, 0.06901022791862488, 0.020539313554763794, -0.0208711177110672, 0.06108584254980087, 0.031310658901929855, 0.006186673417687416, 0.02889353595674038, -0.0731697529554367, 0.016533030197024345, 0.041661959141492844, 0.02147749252617359, 0.0063850064761936665, -0.02691182866692543, 0.0011352173751220107, -0.08928168565034866, 0.03256421908736229, 0.06183486804366112, 0.009485910646617413, 0.06715354323387146, 0.0010236738016828895, -0.08174418658018112, -0.03011239506304264, 0.03800399601459503, 0.05713973566889763, -0.08928481489419937, -0.05991650000214577, 0.012595375999808311, 0.016711987555027008, 0.03370453044772148, -0.011783143505454063, -0.10805878043174744, 0.05128142237663269, -0.06735710054636002, -0.05274287983775139, -0.11574730277061462, 0.02844822220504284, -0.02746553160250187, 0.017946258187294006, -0.003775320015847683, 0.0393647737801075, -0.06837623566389084, 0.03376587852835655, 0.04379250854253769, 0.1569635272026062, -0.03761008754372597, -0.03829736262559891, -0.00125018204562366, 0.00467340461909771, -0.009071770124137402, 0.026751572266221046, 0.019619392231106758, 0.014807931147515774, -0.031202001497149467, -0.012176277115941048, -0.03639766946434975, -0.04712605103850365, -0.04259219765663147, 0.01858421228826046, 0.009825349785387516, 0.07071541994810104, 0.07400719821453094, -0.05820853263139725, 0.020972024649381638, 0.07550183683633804, 0.04037749394774437, -0.01543225347995758, 0.014572113752365112, -0.00942428782582283, -0.06688651442527771, 0.10454128682613373, 0.013365802355110645, 0.06941507011651993, -0.0736028179526329, 0.015428081154823303, 0.016179386526346207, 0.001234943512827158, -0.043790362775325775, -0.02884799800813198, 0.04575164243578911, -0.005305311176925898, 0.02328507974743843, -0.02936409041285515, 0.03720063343644142, -0.05117899179458618, -0.03842052444815636, 0.01352866180241108, 0.03587675839662552, 0.04136205464601517, 0.055047035217285156, 0.0142186488956213, 0.07815283536911011, -0.053977712988853455, -0.056122906506061554, -0.13236966729164124, 0.054615121334791183, -0.03248252347111702, 0.002509210491552949, -0.006499790120869875, 0.0988859012722969, 0.061471909284591675, -0.09130871295928955, -0.01921354979276657, -0.017373396083712578, 0.06439381837844849, -0.005483126733452082, 0.003399729495868087, -0.08230875432491302, 0.0437166690826416, 0.012396786361932755, 0.020581427961587906, -0.012061962857842445, -0.01756710186600685, 0.046470437198877335, 0.013456419110298157, 0.1026584655046463, -0.0667569488286972, 0.06711674481630325, 0.014108897186815739, -0.09340624511241913, 0.061370521783828735, -0.0048665013164281845, 0.00933636724948883, -0.005139284301549196, 0.04851497337222099, -0.05957512557506561, -0.009987762197852135, -0.03106587752699852, 0.00833495706319809, 0.06600100547075272, 0.01869024708867073, 0.008592687547206879, 0.054032836109399796, 0.03342051804065704, -0.025271669030189514, 0.07631026208400726, -0.034227803349494934, 0.06339805573225021, 0.02995457500219345, 0.002674761228263378, -0.036314092576503754, -0.06542003154754639, 0.05833638086915016, 0.07301187515258789, -0.00044458996853791177, 0.024072011932730675, 0.054900798946619034, -0.021689780056476593, -0.03487660363316536, -0.05602489784359932, 0.015433670952916145, -0.054005060344934464, -0.025644799694418907, -0.07043884694576263, -0.09363314509391785, 0.0004348485090304166, -0.012056720443069935, -0.09290433675050735, -0.06256331503391266, -0.07590273767709732, 0.04167597368359566, 0.007900455966591835, 0.0064818221144378185, 0.053002797067165375, -0.06750011444091797, -0.04483967274427414, -0.003854323411360383, 0.0312756709754467, -0.03812343627214432, 0.013369910418987274, -0.018640024587512016, -0.03937136381864548, -0.016028963029384613, 0.014098362997174263, -0.05233175680041313, 0.11216506361961365, -0.051747702062129974, 0.010560144670307636, 0.010651644319295883, 0.014653826132416725, -0.12515850365161896, -0.021001916378736496, -0.06555647403001785, 0.01375874038785696, 0.0016723958542570472, 0.05002404376864433, 0.008798393420875072, 0.026508741080760956, -0.035833388566970825, -0.002590681193396449, 0.08434350788593292, 0.027569904923439026, -0.06263944506645203, 0.028942950069904327, -0.02389315515756607, 0.016674384474754333, 0.043256741017103195, -0.00580583093687892, -0.061235301196575165, 1.6057734050232315e-33, -0.1492091566324234, -0.06065739691257477, -0.0023869825527071953, 0.09895540028810501, -0.0045413370244205, -0.06544184684753418, 0.028065068647265434, 0.058206818997859955, 0.05781853199005127, -0.03447922319173813, 0.016592135652899742, 0.06482477486133575, -0.04064421355724335, -0.07765158265829086, -0.07646887004375458, 0.007588179782032967, 0.0658290833234787, 0.049890872091054916, -0.02769753336906433, 0.02145177498459816, -0.004575575701892376, 0.023757895454764366, -0.03729231283068657, -0.05160095915198326, -0.03350529447197914, 0.10382034629583359, -0.0140005424618721, -0.05979413166642189, -0.0174234751611948, -0.048489656299352646, 0.019399244338274002, 0.10987498611211777, -0.05924583971500397, -0.03348465636372566, 0.029603581875562668, -0.0353844091296196, -0.003685267874971032, -0.024675825610756874, -0.03299764543771744, -0.05468814820051193, 0.10971824824810028, 0.010882362723350525, -0.04706621170043945, 0.04657239839434624, -0.034296467900276184, 0.03442617878317833, -0.0496404692530632, 0.014585250988602638, -0.012121649459004402, -0.13285408914089203, 0.047050029039382935, -0.02071719616651535, 0.06001737341284752, 0.014574199914932251, 0.008911359123885632, 0.002286734525114298, 0.04716602340340614, 0.03438242897391319, -0.06079953536391258, 0.014079793356359005, 0.03465615212917328, 0.04144585132598877, -0.0891789123415947, -0.0566045381128788, -0.0835319384932518, -0.08375360816717148, 0.02238568291068077, 0.05881341174244881, 0.039812132716178894, -0.05469474941492081, 0.05280223861336708, -0.009554049000144005, 0.11812502890825272, 0.053988274186849594, -0.05013333633542061, -0.017728354781866074, -0.015345875173807144, -0.006963836960494518, 0.047857291996479034, 0.04317903891205788, -0.0010581979295238853, -0.0587613545358181, 0.018984945490956306, -0.011532309465110302, 0.11344951391220093, 0.03621669486165047, -0.00383434584364295, -0.06820447742938995, 0.0132405124604702, 0.016602393239736557, -0.09857430309057236, 0.07078862190246582, 0.021691441535949707, -0.001023370074108243, 0.04721171781420708, 3.852177859996369e-32, -0.006423229817301035, 0.033488254994153976, 0.014528268948197365, 0.04720699414610863, -0.0929436907172203, -0.019785258919000626, -0.09689337760210037, 0.034317970275878906, 0.03616931289434433, -0.09267346560955048, 0.038904737681150436, -0.05591494217514992, 0.0562567338347435, -0.08508827537298203, 0.02379368059337139, 0.028874216601252556, 0.010712353512644768, 0.10465926676988602, -0.023036032915115356, -0.055224839597940445, -0.0855826810002327, 0.0920143872499466, 0.012590007856488228, 0.0017466493882238865, -0.05087079107761383, -0.037898723036050797, 0.04480414092540741, -0.03464238718152046, 0.0685521811246872, 0.035517800599336624, 0.05225042253732681, -0.02770010009407997, 0.017395706847310066, 0.08678565919399261, 0.014880580827593803, 0.07472119480371475, -0.0646403357386589, 0.10784274339675903, 0.10158834606409073, -0.04599706456065178, -0.006602074485272169, 0.02894851565361023, -0.03664414584636688, -0.022297361865639687, 0.008166681975126266, -0.04378227889537811, -0.015524359419941902, -0.09372594207525253, -0.0029912840109318495, 0.08970669656991959, 0.05921768769621849, 0.013423459604382515, 0.046341121196746826, -0.03201599046587944, 0.09078036993741989, 0.002246722113341093, 0.016627119854092598, -0.0438307486474514, 0.014466634951531887, -0.04049038514494896, 0.027568358927965164, -0.02540023997426033, -0.0029951739124953747, -0.01858036406338215]}}, {'name': 'EmbeddingModule', 'version': '0.0.1'}, 18])] is illegal)>",
     "output_type": "error",
     "traceback": [
      "\u001b[0;31m---------------------------------------------------------------------------\u001b[0m",
      "\u001b[0;31mParamError\u001b[0m                                Traceback (most recent call last)",
      "    \u001b[0;31m[... skipping hidden 1 frame]\u001b[0m\n",
      "Cell \u001b[0;32mIn[15], line 2\u001b[0m\n\u001b[1;32m      1\u001b[0m query \u001b[38;5;241m=\u001b[39m \u001b[38;5;124m\"\u001b[39m\u001b[38;5;124mHow can I work with GPU and taints in OpenShift AI?\u001b[39m\u001b[38;5;124m\"\u001b[39m\n\u001b[0;32m----> 2\u001b[0m docs_with_score \u001b[38;5;241m=\u001b[39m \u001b[43mdb\u001b[49m\u001b[38;5;241;43m.\u001b[39;49m\u001b[43msimilarity_search_with_score\u001b[49m\u001b[43m(\u001b[49m\u001b[43mquery\u001b[49m\u001b[43m)\u001b[49m\n",
      "File \u001b[0;32m/opt/app-root/lib64/python3.9/site-packages/langchain_community/vectorstores/milvus.py:730\u001b[0m, in \u001b[0;36mMilvus.similarity_search_with_score\u001b[0;34m(self, query, k, param, expr, timeout, **kwargs)\u001b[0m\n\u001b[1;32m    729\u001b[0m timeout \u001b[38;5;241m=\u001b[39m \u001b[38;5;28mself\u001b[39m\u001b[38;5;241m.\u001b[39mtimeout \u001b[38;5;129;01mor\u001b[39;00m timeout\n\u001b[0;32m--> 730\u001b[0m res \u001b[38;5;241m=\u001b[39m \u001b[38;5;28;43mself\u001b[39;49m\u001b[38;5;241;43m.\u001b[39;49m\u001b[43msimilarity_search_with_score_by_vector\u001b[49m\u001b[43m(\u001b[49m\n\u001b[1;32m    731\u001b[0m \u001b[43m    \u001b[49m\u001b[43membedding\u001b[49m\u001b[38;5;241;43m=\u001b[39;49m\u001b[43membedding\u001b[49m\u001b[43m,\u001b[49m\u001b[43m \u001b[49m\u001b[43mk\u001b[49m\u001b[38;5;241;43m=\u001b[39;49m\u001b[43mk\u001b[49m\u001b[43m,\u001b[49m\u001b[43m \u001b[49m\u001b[43mparam\u001b[49m\u001b[38;5;241;43m=\u001b[39;49m\u001b[43mparam\u001b[49m\u001b[43m,\u001b[49m\u001b[43m \u001b[49m\u001b[43mexpr\u001b[49m\u001b[38;5;241;43m=\u001b[39;49m\u001b[43mexpr\u001b[49m\u001b[43m,\u001b[49m\u001b[43m \u001b[49m\u001b[43mtimeout\u001b[49m\u001b[38;5;241;43m=\u001b[39;49m\u001b[43mtimeout\u001b[49m\u001b[43m,\u001b[49m\u001b[43m \u001b[49m\u001b[38;5;241;43m*\u001b[39;49m\u001b[38;5;241;43m*\u001b[39;49m\u001b[43mkwargs\u001b[49m\n\u001b[1;32m    732\u001b[0m \u001b[43m\u001b[49m\u001b[43m)\u001b[49m\n\u001b[1;32m    733\u001b[0m \u001b[38;5;28;01mreturn\u001b[39;00m res\n",
      "File \u001b[0;32m/opt/app-root/lib64/python3.9/site-packages/langchain_community/vectorstores/milvus.py:775\u001b[0m, in \u001b[0;36mMilvus.similarity_search_with_score_by_vector\u001b[0;34m(self, embedding, k, param, expr, timeout, **kwargs)\u001b[0m\n\u001b[1;32m    774\u001b[0m \u001b[38;5;66;03m# Perform the search.\u001b[39;00m\n\u001b[0;32m--> 775\u001b[0m res \u001b[38;5;241m=\u001b[39m \u001b[38;5;28;43mself\u001b[39;49m\u001b[38;5;241;43m.\u001b[39;49m\u001b[43mcol\u001b[49m\u001b[38;5;241;43m.\u001b[39;49m\u001b[43msearch\u001b[49m\u001b[43m(\u001b[49m\n\u001b[1;32m    776\u001b[0m \u001b[43m    \u001b[49m\u001b[43mdata\u001b[49m\u001b[38;5;241;43m=\u001b[39;49m\u001b[43m[\u001b[49m\u001b[43membedding\u001b[49m\u001b[43m]\u001b[49m\u001b[43m,\u001b[49m\n\u001b[1;32m    777\u001b[0m \u001b[43m    \u001b[49m\u001b[43manns_field\u001b[49m\u001b[38;5;241;43m=\u001b[39;49m\u001b[38;5;28;43mself\u001b[39;49m\u001b[38;5;241;43m.\u001b[39;49m\u001b[43m_vector_field\u001b[49m\u001b[43m,\u001b[49m\n\u001b[1;32m    778\u001b[0m \u001b[43m    \u001b[49m\u001b[43mparam\u001b[49m\u001b[38;5;241;43m=\u001b[39;49m\u001b[43mparam\u001b[49m\u001b[43m,\u001b[49m\n\u001b[1;32m    779\u001b[0m \u001b[43m    \u001b[49m\u001b[43mlimit\u001b[49m\u001b[38;5;241;43m=\u001b[39;49m\u001b[43mk\u001b[49m\u001b[43m,\u001b[49m\n\u001b[1;32m    780\u001b[0m \u001b[43m    \u001b[49m\u001b[43mexpr\u001b[49m\u001b[38;5;241;43m=\u001b[39;49m\u001b[43mexpr\u001b[49m\u001b[43m,\u001b[49m\n\u001b[1;32m    781\u001b[0m \u001b[43m    \u001b[49m\u001b[43moutput_fields\u001b[49m\u001b[38;5;241;43m=\u001b[39;49m\u001b[43moutput_fields\u001b[49m\u001b[43m,\u001b[49m\n\u001b[1;32m    782\u001b[0m \u001b[43m    \u001b[49m\u001b[43mtimeout\u001b[49m\u001b[38;5;241;43m=\u001b[39;49m\u001b[43mtimeout\u001b[49m\u001b[43m,\u001b[49m\n\u001b[1;32m    783\u001b[0m \u001b[43m    \u001b[49m\u001b[38;5;241;43m*\u001b[39;49m\u001b[38;5;241;43m*\u001b[39;49m\u001b[43mkwargs\u001b[49m\u001b[43m,\u001b[49m\n\u001b[1;32m    784\u001b[0m \u001b[43m\u001b[49m\u001b[43m)\u001b[49m\n\u001b[1;32m    785\u001b[0m \u001b[38;5;66;03m# Organize results.\u001b[39;00m\n",
      "File \u001b[0;32m/opt/app-root/lib64/python3.9/site-packages/pymilvus/orm/collection.py:792\u001b[0m, in \u001b[0;36mCollection.search\u001b[0;34m(self, data, anns_field, param, limit, expr, partition_names, output_fields, timeout, round_decimal, **kwargs)\u001b[0m\n\u001b[1;32m    791\u001b[0m conn \u001b[38;5;241m=\u001b[39m \u001b[38;5;28mself\u001b[39m\u001b[38;5;241m.\u001b[39m_get_connection()\n\u001b[0;32m--> 792\u001b[0m resp \u001b[38;5;241m=\u001b[39m \u001b[43mconn\u001b[49m\u001b[38;5;241;43m.\u001b[39;49m\u001b[43msearch\u001b[49m\u001b[43m(\u001b[49m\n\u001b[1;32m    793\u001b[0m \u001b[43m    \u001b[49m\u001b[38;5;28;43mself\u001b[39;49m\u001b[38;5;241;43m.\u001b[39;49m\u001b[43m_name\u001b[49m\u001b[43m,\u001b[49m\n\u001b[1;32m    794\u001b[0m \u001b[43m    \u001b[49m\u001b[43mdata\u001b[49m\u001b[43m,\u001b[49m\n\u001b[1;32m    795\u001b[0m \u001b[43m    \u001b[49m\u001b[43manns_field\u001b[49m\u001b[43m,\u001b[49m\n\u001b[1;32m    796\u001b[0m \u001b[43m    \u001b[49m\u001b[43mparam\u001b[49m\u001b[43m,\u001b[49m\n\u001b[1;32m    797\u001b[0m \u001b[43m    \u001b[49m\u001b[43mlimit\u001b[49m\u001b[43m,\u001b[49m\n\u001b[1;32m    798\u001b[0m \u001b[43m    \u001b[49m\u001b[43mexpr\u001b[49m\u001b[43m,\u001b[49m\n\u001b[1;32m    799\u001b[0m \u001b[43m    \u001b[49m\u001b[43mpartition_names\u001b[49m\u001b[43m,\u001b[49m\n\u001b[1;32m    800\u001b[0m \u001b[43m    \u001b[49m\u001b[43moutput_fields\u001b[49m\u001b[43m,\u001b[49m\n\u001b[1;32m    801\u001b[0m \u001b[43m    \u001b[49m\u001b[43mround_decimal\u001b[49m\u001b[43m,\u001b[49m\n\u001b[1;32m    802\u001b[0m \u001b[43m    \u001b[49m\u001b[43mtimeout\u001b[49m\u001b[38;5;241;43m=\u001b[39;49m\u001b[43mtimeout\u001b[49m\u001b[43m,\u001b[49m\n\u001b[1;32m    803\u001b[0m \u001b[43m    \u001b[49m\u001b[43mschema\u001b[49m\u001b[38;5;241;43m=\u001b[39;49m\u001b[38;5;28;43mself\u001b[39;49m\u001b[38;5;241;43m.\u001b[39;49m\u001b[43m_schema_dict\u001b[49m\u001b[43m,\u001b[49m\n\u001b[1;32m    804\u001b[0m \u001b[43m    \u001b[49m\u001b[38;5;241;43m*\u001b[39;49m\u001b[38;5;241;43m*\u001b[39;49m\u001b[43mkwargs\u001b[49m\u001b[43m,\u001b[49m\n\u001b[1;32m    805\u001b[0m \u001b[43m\u001b[49m\u001b[43m)\u001b[49m\n\u001b[1;32m    807\u001b[0m \u001b[38;5;28;01mreturn\u001b[39;00m SearchFuture(resp) \u001b[38;5;28;01mif\u001b[39;00m kwargs\u001b[38;5;241m.\u001b[39mget(\u001b[38;5;124m\"\u001b[39m\u001b[38;5;124m_async\u001b[39m\u001b[38;5;124m\"\u001b[39m, \u001b[38;5;28;01mFalse\u001b[39;00m) \u001b[38;5;28;01melse\u001b[39;00m resp\n",
      "File \u001b[0;32m/opt/app-root/lib64/python3.9/site-packages/pymilvus/decorators.py:135\u001b[0m, in \u001b[0;36merror_handler.<locals>.wrapper.<locals>.handler\u001b[0;34m(*args, **kwargs)\u001b[0m\n\u001b[1;32m    134\u001b[0m     LOGGER\u001b[38;5;241m.\u001b[39merror(\u001b[38;5;124mf\u001b[39m\u001b[38;5;124m\"\u001b[39m\u001b[38;5;124mRPC error: [\u001b[39m\u001b[38;5;132;01m{\u001b[39;00minner_name\u001b[38;5;132;01m}\u001b[39;00m\u001b[38;5;124m], \u001b[39m\u001b[38;5;132;01m{\u001b[39;00me\u001b[38;5;132;01m}\u001b[39;00m\u001b[38;5;124m, <Time:\u001b[39m\u001b[38;5;132;01m{\u001b[39;00mrecord_dict\u001b[38;5;132;01m}\u001b[39;00m\u001b[38;5;124m>\u001b[39m\u001b[38;5;124m\"\u001b[39m)\n\u001b[0;32m--> 135\u001b[0m     \u001b[38;5;28;01mraise\u001b[39;00m e \u001b[38;5;28;01mfrom\u001b[39;00m \u001b[38;5;21;01me\u001b[39;00m\n\u001b[1;32m    136\u001b[0m \u001b[38;5;28;01mexcept\u001b[39;00m grpc\u001b[38;5;241m.\u001b[39mFutureTimeoutError \u001b[38;5;28;01mas\u001b[39;00m e:\n",
      "File \u001b[0;32m/opt/app-root/lib64/python3.9/site-packages/pymilvus/decorators.py:131\u001b[0m, in \u001b[0;36merror_handler.<locals>.wrapper.<locals>.handler\u001b[0;34m(*args, **kwargs)\u001b[0m\n\u001b[1;32m    130\u001b[0m     record_dict[\u001b[38;5;124m\"\u001b[39m\u001b[38;5;124mRPC start\u001b[39m\u001b[38;5;124m\"\u001b[39m] \u001b[38;5;241m=\u001b[39m \u001b[38;5;28mstr\u001b[39m(datetime\u001b[38;5;241m.\u001b[39mdatetime\u001b[38;5;241m.\u001b[39mnow())\n\u001b[0;32m--> 131\u001b[0m     \u001b[38;5;28;01mreturn\u001b[39;00m \u001b[43mfunc\u001b[49m\u001b[43m(\u001b[49m\u001b[38;5;241;43m*\u001b[39;49m\u001b[43margs\u001b[49m\u001b[43m,\u001b[49m\u001b[43m \u001b[49m\u001b[38;5;241;43m*\u001b[39;49m\u001b[38;5;241;43m*\u001b[39;49m\u001b[43mkwargs\u001b[49m\u001b[43m)\u001b[49m\n\u001b[1;32m    132\u001b[0m \u001b[38;5;28;01mexcept\u001b[39;00m MilvusException \u001b[38;5;28;01mas\u001b[39;00m e:\n",
      "File \u001b[0;32m/opt/app-root/lib64/python3.9/site-packages/pymilvus/decorators.py:170\u001b[0m, in \u001b[0;36mtracing_request.<locals>.wrapper.<locals>.handler\u001b[0;34m(self, *args, **kwargs)\u001b[0m\n\u001b[1;32m    169\u001b[0m     \u001b[38;5;28mself\u001b[39m\u001b[38;5;241m.\u001b[39mset_onetime_request_id(req_id)\n\u001b[0;32m--> 170\u001b[0m \u001b[38;5;28;01mreturn\u001b[39;00m \u001b[43mfunc\u001b[49m\u001b[43m(\u001b[49m\u001b[38;5;28;43mself\u001b[39;49m\u001b[43m,\u001b[49m\u001b[43m \u001b[49m\u001b[38;5;241;43m*\u001b[39;49m\u001b[43margs\u001b[49m\u001b[43m,\u001b[49m\u001b[43m \u001b[49m\u001b[38;5;241;43m*\u001b[39;49m\u001b[38;5;241;43m*\u001b[39;49m\u001b[43mkwargs\u001b[49m\u001b[43m)\u001b[49m\n",
      "File \u001b[0;32m/opt/app-root/lib64/python3.9/site-packages/pymilvus/decorators.py:110\u001b[0m, in \u001b[0;36mretry_on_rpc_failure.<locals>.wrapper.<locals>.handler\u001b[0;34m(*args, **kwargs)\u001b[0m\n\u001b[1;32m    109\u001b[0m     \u001b[38;5;28;01melse\u001b[39;00m:\n\u001b[0;32m--> 110\u001b[0m         \u001b[38;5;28;01mraise\u001b[39;00m e \u001b[38;5;28;01mfrom\u001b[39;00m \u001b[38;5;21;01me\u001b[39;00m\n\u001b[1;32m    111\u001b[0m \u001b[38;5;28;01mexcept\u001b[39;00m \u001b[38;5;167;01mException\u001b[39;00m \u001b[38;5;28;01mas\u001b[39;00m e:\n",
      "File \u001b[0;32m/opt/app-root/lib64/python3.9/site-packages/pymilvus/decorators.py:74\u001b[0m, in \u001b[0;36mretry_on_rpc_failure.<locals>.wrapper.<locals>.handler\u001b[0;34m(*args, **kwargs)\u001b[0m\n\u001b[1;32m     73\u001b[0m \u001b[38;5;28;01mtry\u001b[39;00m:\n\u001b[0;32m---> 74\u001b[0m     \u001b[38;5;28;01mreturn\u001b[39;00m \u001b[43mfunc\u001b[49m\u001b[43m(\u001b[49m\u001b[38;5;241;43m*\u001b[39;49m\u001b[43margs\u001b[49m\u001b[43m,\u001b[49m\u001b[43m \u001b[49m\u001b[38;5;241;43m*\u001b[39;49m\u001b[38;5;241;43m*\u001b[39;49m\u001b[43mkwargs\u001b[49m\u001b[43m)\u001b[49m\n\u001b[1;32m     75\u001b[0m \u001b[38;5;28;01mexcept\u001b[39;00m grpc\u001b[38;5;241m.\u001b[39mRpcError \u001b[38;5;28;01mas\u001b[39;00m e:\n\u001b[1;32m     76\u001b[0m     \u001b[38;5;66;03m# Reference: https://grpc.github.io/grpc/python/grpc.html#grpc-status-code\u001b[39;00m\n",
      "File \u001b[0;32m/opt/app-root/lib64/python3.9/site-packages/pymilvus/client/grpc_handler.py:742\u001b[0m, in \u001b[0;36mGrpcHandler.search\u001b[0;34m(self, collection_name, data, anns_field, param, limit, expression, partition_names, output_fields, round_decimal, timeout, **kwargs)\u001b[0m\n\u001b[1;32m    727\u001b[0m \u001b[38;5;129m@retry_on_rpc_failure\u001b[39m()\n\u001b[1;32m    728\u001b[0m \u001b[38;5;28;01mdef\u001b[39;00m \u001b[38;5;21msearch\u001b[39m(\n\u001b[1;32m    729\u001b[0m     \u001b[38;5;28mself\u001b[39m,\n\u001b[0;32m   (...)\u001b[0m\n\u001b[1;32m    740\u001b[0m     \u001b[38;5;241m*\u001b[39m\u001b[38;5;241m*\u001b[39mkwargs,\n\u001b[1;32m    741\u001b[0m ):\n\u001b[0;32m--> 742\u001b[0m     \u001b[43mcheck_pass_param\u001b[49m\u001b[43m(\u001b[49m\n\u001b[1;32m    743\u001b[0m \u001b[43m        \u001b[49m\u001b[43mlimit\u001b[49m\u001b[38;5;241;43m=\u001b[39;49m\u001b[43mlimit\u001b[49m\u001b[43m,\u001b[49m\n\u001b[1;32m    744\u001b[0m \u001b[43m        \u001b[49m\u001b[43mround_decimal\u001b[49m\u001b[38;5;241;43m=\u001b[39;49m\u001b[43mround_decimal\u001b[49m\u001b[43m,\u001b[49m\n\u001b[1;32m    745\u001b[0m \u001b[43m        \u001b[49m\u001b[43manns_field\u001b[49m\u001b[38;5;241;43m=\u001b[39;49m\u001b[43manns_field\u001b[49m\u001b[43m,\u001b[49m\n\u001b[1;32m    746\u001b[0m \u001b[43m        \u001b[49m\u001b[43msearch_data\u001b[49m\u001b[38;5;241;43m=\u001b[39;49m\u001b[43mdata\u001b[49m\u001b[43m,\u001b[49m\n\u001b[1;32m    747\u001b[0m \u001b[43m        \u001b[49m\u001b[43mpartition_name_array\u001b[49m\u001b[38;5;241;43m=\u001b[39;49m\u001b[43mpartition_names\u001b[49m\u001b[43m,\u001b[49m\n\u001b[1;32m    748\u001b[0m \u001b[43m        \u001b[49m\u001b[43moutput_fields\u001b[49m\u001b[38;5;241;43m=\u001b[39;49m\u001b[43moutput_fields\u001b[49m\u001b[43m,\u001b[49m\n\u001b[1;32m    749\u001b[0m \u001b[43m        \u001b[49m\u001b[43mguarantee_timestamp\u001b[49m\u001b[38;5;241;43m=\u001b[39;49m\u001b[43mkwargs\u001b[49m\u001b[38;5;241;43m.\u001b[39;49m\u001b[43mget\u001b[49m\u001b[43m(\u001b[49m\u001b[38;5;124;43m\"\u001b[39;49m\u001b[38;5;124;43mguarantee_timestamp\u001b[39;49m\u001b[38;5;124;43m\"\u001b[39;49m\u001b[43m,\u001b[49m\u001b[43m \u001b[49m\u001b[38;5;28;43;01mNone\u001b[39;49;00m\u001b[43m)\u001b[49m\u001b[43m,\u001b[49m\n\u001b[1;32m    750\u001b[0m \u001b[43m    \u001b[49m\u001b[43m)\u001b[49m\n\u001b[1;32m    752\u001b[0m     request \u001b[38;5;241m=\u001b[39m Prepare\u001b[38;5;241m.\u001b[39msearch_requests_with_expr(\n\u001b[1;32m    753\u001b[0m         collection_name,\n\u001b[1;32m    754\u001b[0m         data,\n\u001b[0;32m   (...)\u001b[0m\n\u001b[1;32m    762\u001b[0m         \u001b[38;5;241m*\u001b[39m\u001b[38;5;241m*\u001b[39mkwargs,\n\u001b[1;32m    763\u001b[0m     )\n",
      "File \u001b[0;32m/opt/app-root/lib64/python3.9/site-packages/pymilvus/client/check.py:320\u001b[0m, in \u001b[0;36mcheck_pass_param\u001b[0;34m(*_args, **kwargs)\u001b[0m\n\u001b[1;32m    319\u001b[0m \u001b[38;5;28;01mfor\u001b[39;00m key, value \u001b[38;5;129;01min\u001b[39;00m kwargs\u001b[38;5;241m.\u001b[39mitems():\n\u001b[0;32m--> 320\u001b[0m     \u001b[43mchecker\u001b[49m\u001b[38;5;241;43m.\u001b[39;49m\u001b[43mcheck\u001b[49m\u001b[43m(\u001b[49m\u001b[43mkey\u001b[49m\u001b[43m,\u001b[49m\u001b[43m \u001b[49m\u001b[43mvalue\u001b[49m\u001b[43m)\u001b[49m\n",
      "File \u001b[0;32m/opt/app-root/lib64/python3.9/site-packages/pymilvus/client/check.py:306\u001b[0m, in \u001b[0;36mParamChecker.check\u001b[0;34m(self, key, value)\u001b[0m\n\u001b[1;32m    305\u001b[0m     \u001b[38;5;28;01mif\u001b[39;00m \u001b[38;5;129;01mnot\u001b[39;00m \u001b[38;5;28mself\u001b[39m\u001b[38;5;241m.\u001b[39mcheck_dict[key](value):\n\u001b[0;32m--> 306\u001b[0m         \u001b[43m_raise_param_error\u001b[49m\u001b[43m(\u001b[49m\u001b[43mkey\u001b[49m\u001b[43m,\u001b[49m\u001b[43m \u001b[49m\u001b[43mvalue\u001b[49m\u001b[43m)\u001b[49m\n\u001b[1;32m    307\u001b[0m \u001b[38;5;28;01melse\u001b[39;00m:\n",
      "File \u001b[0;32m/opt/app-root/lib64/python3.9/site-packages/pymilvus/client/check.py:206\u001b[0m, in \u001b[0;36m_raise_param_error\u001b[0;34m(param_name, param_value)\u001b[0m\n\u001b[1;32m    205\u001b[0m \u001b[38;5;28;01mdef\u001b[39;00m \u001b[38;5;21m_raise_param_error\u001b[39m(param_name: \u001b[38;5;28mstr\u001b[39m, param_value: Any) \u001b[38;5;241m-\u001b[39m\u001b[38;5;241m>\u001b[39m \u001b[38;5;28;01mNone\u001b[39;00m:\n\u001b[0;32m--> 206\u001b[0m     \u001b[38;5;28;01mraise\u001b[39;00m ParamError(message\u001b[38;5;241m=\u001b[39m\u001b[38;5;124mf\u001b[39m\u001b[38;5;124m\"\u001b[39m\u001b[38;5;124m`\u001b[39m\u001b[38;5;132;01m{\u001b[39;00mparam_name\u001b[38;5;132;01m}\u001b[39;00m\u001b[38;5;124m` value \u001b[39m\u001b[38;5;132;01m{\u001b[39;00mparam_value\u001b[38;5;132;01m}\u001b[39;00m\u001b[38;5;124m is illegal\u001b[39m\u001b[38;5;124m\"\u001b[39m)\n",
      "\u001b[0;31mParamError\u001b[0m: <ParamError: (code=1, message=`search_data` value [dict_values([{'data': {'values': [0.014584872871637344, -0.06318628787994385, 0.04656320810317993, 0.0041893115267157555, 0.055654026567935944, -0.023691782727837563, -0.035480696707963943, -0.024649253115057945, 0.03860316798090935, -0.04051440954208374, -0.09852523356676102, -0.0668564885854721, -0.05555010586977005, -0.022397201508283615, 0.05034366250038147, -0.0031785545870661736, -0.002295487094670534, 0.06766505539417267, 0.00147917284630239, -0.008932314813137054, -0.01815999299287796, 0.008372127078473568, -0.005877046380192041, -0.06242193281650543, -0.11136991530656815, 0.06901022791862488, 0.020539313554763794, -0.0208711177110672, 0.06108584254980087, 0.031310658901929855, 0.006186673417687416, 0.02889353595674038, -0.0731697529554367, 0.016533030197024345, 0.041661959141492844, 0.02147749252617359, 0.0063850064761936665, -0.02691182866692543, 0.0011352173751220107, -0.08928168565034866, 0.03256421908736229, 0.06183486804366112, 0.009485910646617413, 0.06715354323387146, 0.0010236738016828895, -0.08174418658018112, -0.03011239506304264, 0.03800399601459503, 0.05713973566889763, -0.08928481489419937, -0.05991650000214577, 0.012595375999808311, 0.016711987555027008, 0.03370453044772148, -0.011783143505454063, -0.10805878043174744, 0.05128142237663269, -0.06735710054636002, -0.05274287983775139, -0.11574730277061462, 0.02844822220504284, -0.02746553160250187, 0.017946258187294006, -0.003775320015847683, 0.0393647737801075, -0.06837623566389084, 0.03376587852835655, 0.04379250854253769, 0.1569635272026062, -0.03761008754372597, -0.03829736262559891, -0.00125018204562366, 0.00467340461909771, -0.009071770124137402, 0.026751572266221046, 0.019619392231106758, 0.014807931147515774, -0.031202001497149467, -0.012176277115941048, -0.03639766946434975, -0.04712605103850365, -0.04259219765663147, 0.01858421228826046, 0.009825349785387516, 0.07071541994810104, 0.07400719821453094, -0.05820853263139725, 0.020972024649381638, 0.07550183683633804, 0.04037749394774437, -0.01543225347995758, 0.014572113752365112, -0.00942428782582283, -0.06688651442527771, 0.10454128682613373, 0.013365802355110645, 0.06941507011651993, -0.0736028179526329, 0.015428081154823303, 0.016179386526346207, 0.001234943512827158, -0.043790362775325775, -0.02884799800813198, 0.04575164243578911, -0.005305311176925898, 0.02328507974743843, -0.02936409041285515, 0.03720063343644142, -0.05117899179458618, -0.03842052444815636, 0.01352866180241108, 0.03587675839662552, 0.04136205464601517, 0.055047035217285156, 0.0142186488956213, 0.07815283536911011, -0.053977712988853455, -0.056122906506061554, -0.13236966729164124, 0.054615121334791183, -0.03248252347111702, 0.002509210491552949, -0.006499790120869875, 0.0988859012722969, 0.061471909284591675, -0.09130871295928955, -0.01921354979276657, -0.017373396083712578, 0.06439381837844849, -0.005483126733452082, 0.003399729495868087, -0.08230875432491302, 0.0437166690826416, 0.012396786361932755, 0.020581427961587906, -0.012061962857842445, -0.01756710186600685, 0.046470437198877335, 0.013456419110298157, 0.1026584655046463, -0.0667569488286972, 0.06711674481630325, 0.014108897186815739, -0.09340624511241913, 0.061370521783828735, -0.0048665013164281845, 0.00933636724948883, -0.005139284301549196, 0.04851497337222099, -0.05957512557506561, -0.009987762197852135, -0.03106587752699852, 0.00833495706319809, 0.06600100547075272, 0.01869024708867073, 0.008592687547206879, 0.054032836109399796, 0.03342051804065704, -0.025271669030189514, 0.07631026208400726, -0.034227803349494934, 0.06339805573225021, 0.02995457500219345, 0.002674761228263378, -0.036314092576503754, -0.06542003154754639, 0.05833638086915016, 0.07301187515258789, -0.00044458996853791177, 0.024072011932730675, 0.054900798946619034, -0.021689780056476593, -0.03487660363316536, -0.05602489784359932, 0.015433670952916145, -0.054005060344934464, -0.025644799694418907, -0.07043884694576263, -0.09363314509391785, 0.0004348485090304166, -0.012056720443069935, -0.09290433675050735, -0.06256331503391266, -0.07590273767709732, 0.04167597368359566, 0.007900455966591835, 0.0064818221144378185, 0.053002797067165375, -0.06750011444091797, -0.04483967274427414, -0.003854323411360383, 0.0312756709754467, -0.03812343627214432, 0.013369910418987274, -0.018640024587512016, -0.03937136381864548, -0.016028963029384613, 0.014098362997174263, -0.05233175680041313, 0.11216506361961365, -0.051747702062129974, 0.010560144670307636, 0.010651644319295883, 0.014653826132416725, -0.12515850365161896, -0.021001916378736496, -0.06555647403001785, 0.01375874038785696, 0.0016723958542570472, 0.05002404376864433, 0.008798393420875072, 0.026508741080760956, -0.035833388566970825, -0.002590681193396449, 0.08434350788593292, 0.027569904923439026, -0.06263944506645203, 0.028942950069904327, -0.02389315515756607, 0.016674384474754333, 0.043256741017103195, -0.00580583093687892, -0.061235301196575165, 1.6057734050232315e-33, -0.1492091566324234, -0.06065739691257477, -0.0023869825527071953, 0.09895540028810501, -0.0045413370244205, -0.06544184684753418, 0.028065068647265434, 0.058206818997859955, 0.05781853199005127, -0.03447922319173813, 0.016592135652899742, 0.06482477486133575, -0.04064421355724335, -0.07765158265829086, -0.07646887004375458, 0.007588179782032967, 0.0658290833234787, 0.049890872091054916, -0.02769753336906433, 0.02145177498459816, -0.004575575701892376, 0.023757895454764366, -0.03729231283068657, -0.05160095915198326, -0.03350529447197914, 0.10382034629583359, -0.0140005424618721, -0.05979413166642189, -0.0174234751611948, -0.048489656299352646, 0.019399244338274002, 0.10987498611211777, -0.05924583971500397, -0.03348465636372566, 0.029603581875562668, -0.0353844091296196, -0.003685267874971032, -0.024675825610756874, -0.03299764543771744, -0.05468814820051193, 0.10971824824810028, 0.010882362723350525, -0.04706621170043945, 0.04657239839434624, -0.034296467900276184, 0.03442617878317833, -0.0496404692530632, 0.014585250988602638, -0.012121649459004402, -0.13285408914089203, 0.047050029039382935, -0.02071719616651535, 0.06001737341284752, 0.014574199914932251, 0.008911359123885632, 0.002286734525114298, 0.04716602340340614, 0.03438242897391319, -0.06079953536391258, 0.014079793356359005, 0.03465615212917328, 0.04144585132598877, -0.0891789123415947, -0.0566045381128788, -0.0835319384932518, -0.08375360816717148, 0.02238568291068077, 0.05881341174244881, 0.039812132716178894, -0.05469474941492081, 0.05280223861336708, -0.009554049000144005, 0.11812502890825272, 0.053988274186849594, -0.05013333633542061, -0.017728354781866074, -0.015345875173807144, -0.006963836960494518, 0.047857291996479034, 0.04317903891205788, -0.0010581979295238853, -0.0587613545358181, 0.018984945490956306, -0.011532309465110302, 0.11344951391220093, 0.03621669486165047, -0.00383434584364295, -0.06820447742938995, 0.0132405124604702, 0.016602393239736557, -0.09857430309057236, 0.07078862190246582, 0.021691441535949707, -0.001023370074108243, 0.04721171781420708, 3.852177859996369e-32, -0.006423229817301035, 0.033488254994153976, 0.014528268948197365, 0.04720699414610863, -0.0929436907172203, -0.019785258919000626, -0.09689337760210037, 0.034317970275878906, 0.03616931289434433, -0.09267346560955048, 0.038904737681150436, -0.05591494217514992, 0.0562567338347435, -0.08508827537298203, 0.02379368059337139, 0.028874216601252556, 0.010712353512644768, 0.10465926676988602, -0.023036032915115356, -0.055224839597940445, -0.0855826810002327, 0.0920143872499466, 0.012590007856488228, 0.0017466493882238865, -0.05087079107761383, -0.037898723036050797, 0.04480414092540741, -0.03464238718152046, 0.0685521811246872, 0.035517800599336624, 0.05225042253732681, -0.02770010009407997, 0.017395706847310066, 0.08678565919399261, 0.014880580827593803, 0.07472119480371475, -0.0646403357386589, 0.10784274339675903, 0.10158834606409073, -0.04599706456065178, -0.006602074485272169, 0.02894851565361023, -0.03664414584636688, -0.022297361865639687, 0.008166681975126266, -0.04378227889537811, -0.015524359419941902, -0.09372594207525253, -0.0029912840109318495, 0.08970669656991959, 0.05921768769621849, 0.013423459604382515, 0.046341121196746826, -0.03201599046587944, 0.09078036993741989, 0.002246722113341093, 0.016627119854092598, -0.0438307486474514, 0.014466634951531887, -0.04049038514494896, 0.027568358927965164, -0.02540023997426033, -0.0029951739124953747, -0.01858036406338215]}}, {'name': 'EmbeddingModule', 'version': '0.0.1'}, 18])] is illegal)>",
      "\nThe above exception was the direct cause of the following exception:\n",
      "\u001b[0;31mParamError\u001b[0m                                Traceback (most recent call last)",
      "    \u001b[0;31m[... skipping hidden 1 frame]\u001b[0m\n",
      "Cell \u001b[0;32mIn[15], line 2\u001b[0m\n\u001b[1;32m      1\u001b[0m query \u001b[38;5;241m=\u001b[39m \u001b[38;5;124m\"\u001b[39m\u001b[38;5;124mHow can I work with GPU and taints in OpenShift AI?\u001b[39m\u001b[38;5;124m\"\u001b[39m\n\u001b[0;32m----> 2\u001b[0m docs_with_score \u001b[38;5;241m=\u001b[39m \u001b[43mdb\u001b[49m\u001b[38;5;241;43m.\u001b[39;49m\u001b[43msimilarity_search_with_score\u001b[49m\u001b[43m(\u001b[49m\u001b[43mquery\u001b[49m\u001b[43m)\u001b[49m\n",
      "File \u001b[0;32m/opt/app-root/lib64/python3.9/site-packages/langchain_community/vectorstores/milvus.py:730\u001b[0m, in \u001b[0;36mMilvus.similarity_search_with_score\u001b[0;34m(self, query, k, param, expr, timeout, **kwargs)\u001b[0m\n\u001b[1;32m    729\u001b[0m timeout \u001b[38;5;241m=\u001b[39m \u001b[38;5;28mself\u001b[39m\u001b[38;5;241m.\u001b[39mtimeout \u001b[38;5;129;01mor\u001b[39;00m timeout\n\u001b[0;32m--> 730\u001b[0m res \u001b[38;5;241m=\u001b[39m \u001b[38;5;28;43mself\u001b[39;49m\u001b[38;5;241;43m.\u001b[39;49m\u001b[43msimilarity_search_with_score_by_vector\u001b[49m\u001b[43m(\u001b[49m\n\u001b[1;32m    731\u001b[0m \u001b[43m    \u001b[49m\u001b[43membedding\u001b[49m\u001b[38;5;241;43m=\u001b[39;49m\u001b[43membedding\u001b[49m\u001b[43m,\u001b[49m\u001b[43m \u001b[49m\u001b[43mk\u001b[49m\u001b[38;5;241;43m=\u001b[39;49m\u001b[43mk\u001b[49m\u001b[43m,\u001b[49m\u001b[43m \u001b[49m\u001b[43mparam\u001b[49m\u001b[38;5;241;43m=\u001b[39;49m\u001b[43mparam\u001b[49m\u001b[43m,\u001b[49m\u001b[43m \u001b[49m\u001b[43mexpr\u001b[49m\u001b[38;5;241;43m=\u001b[39;49m\u001b[43mexpr\u001b[49m\u001b[43m,\u001b[49m\u001b[43m \u001b[49m\u001b[43mtimeout\u001b[49m\u001b[38;5;241;43m=\u001b[39;49m\u001b[43mtimeout\u001b[49m\u001b[43m,\u001b[49m\u001b[43m \u001b[49m\u001b[38;5;241;43m*\u001b[39;49m\u001b[38;5;241;43m*\u001b[39;49m\u001b[43mkwargs\u001b[49m\n\u001b[1;32m    732\u001b[0m \u001b[43m\u001b[49m\u001b[43m)\u001b[49m\n\u001b[1;32m    733\u001b[0m \u001b[38;5;28;01mreturn\u001b[39;00m res\n",
      "File \u001b[0;32m/opt/app-root/lib64/python3.9/site-packages/langchain_community/vectorstores/milvus.py:775\u001b[0m, in \u001b[0;36mMilvus.similarity_search_with_score_by_vector\u001b[0;34m(self, embedding, k, param, expr, timeout, **kwargs)\u001b[0m\n\u001b[1;32m    774\u001b[0m \u001b[38;5;66;03m# Perform the search.\u001b[39;00m\n\u001b[0;32m--> 775\u001b[0m res \u001b[38;5;241m=\u001b[39m \u001b[38;5;28;43mself\u001b[39;49m\u001b[38;5;241;43m.\u001b[39;49m\u001b[43mcol\u001b[49m\u001b[38;5;241;43m.\u001b[39;49m\u001b[43msearch\u001b[49m\u001b[43m(\u001b[49m\n\u001b[1;32m    776\u001b[0m \u001b[43m    \u001b[49m\u001b[43mdata\u001b[49m\u001b[38;5;241;43m=\u001b[39;49m\u001b[43m[\u001b[49m\u001b[43membedding\u001b[49m\u001b[43m]\u001b[49m\u001b[43m,\u001b[49m\n\u001b[1;32m    777\u001b[0m \u001b[43m    \u001b[49m\u001b[43manns_field\u001b[49m\u001b[38;5;241;43m=\u001b[39;49m\u001b[38;5;28;43mself\u001b[39;49m\u001b[38;5;241;43m.\u001b[39;49m\u001b[43m_vector_field\u001b[49m\u001b[43m,\u001b[49m\n\u001b[1;32m    778\u001b[0m \u001b[43m    \u001b[49m\u001b[43mparam\u001b[49m\u001b[38;5;241;43m=\u001b[39;49m\u001b[43mparam\u001b[49m\u001b[43m,\u001b[49m\n\u001b[1;32m    779\u001b[0m \u001b[43m    \u001b[49m\u001b[43mlimit\u001b[49m\u001b[38;5;241;43m=\u001b[39;49m\u001b[43mk\u001b[49m\u001b[43m,\u001b[49m\n\u001b[1;32m    780\u001b[0m \u001b[43m    \u001b[49m\u001b[43mexpr\u001b[49m\u001b[38;5;241;43m=\u001b[39;49m\u001b[43mexpr\u001b[49m\u001b[43m,\u001b[49m\n\u001b[1;32m    781\u001b[0m \u001b[43m    \u001b[49m\u001b[43moutput_fields\u001b[49m\u001b[38;5;241;43m=\u001b[39;49m\u001b[43moutput_fields\u001b[49m\u001b[43m,\u001b[49m\n\u001b[1;32m    782\u001b[0m \u001b[43m    \u001b[49m\u001b[43mtimeout\u001b[49m\u001b[38;5;241;43m=\u001b[39;49m\u001b[43mtimeout\u001b[49m\u001b[43m,\u001b[49m\n\u001b[1;32m    783\u001b[0m \u001b[43m    \u001b[49m\u001b[38;5;241;43m*\u001b[39;49m\u001b[38;5;241;43m*\u001b[39;49m\u001b[43mkwargs\u001b[49m\u001b[43m,\u001b[49m\n\u001b[1;32m    784\u001b[0m \u001b[43m\u001b[49m\u001b[43m)\u001b[49m\n\u001b[1;32m    785\u001b[0m \u001b[38;5;66;03m# Organize results.\u001b[39;00m\n",
      "File \u001b[0;32m/opt/app-root/lib64/python3.9/site-packages/pymilvus/orm/collection.py:792\u001b[0m, in \u001b[0;36mCollection.search\u001b[0;34m(self, data, anns_field, param, limit, expr, partition_names, output_fields, timeout, round_decimal, **kwargs)\u001b[0m\n\u001b[1;32m    791\u001b[0m conn \u001b[38;5;241m=\u001b[39m \u001b[38;5;28mself\u001b[39m\u001b[38;5;241m.\u001b[39m_get_connection()\n\u001b[0;32m--> 792\u001b[0m resp \u001b[38;5;241m=\u001b[39m \u001b[43mconn\u001b[49m\u001b[38;5;241;43m.\u001b[39;49m\u001b[43msearch\u001b[49m\u001b[43m(\u001b[49m\n\u001b[1;32m    793\u001b[0m \u001b[43m    \u001b[49m\u001b[38;5;28;43mself\u001b[39;49m\u001b[38;5;241;43m.\u001b[39;49m\u001b[43m_name\u001b[49m\u001b[43m,\u001b[49m\n\u001b[1;32m    794\u001b[0m \u001b[43m    \u001b[49m\u001b[43mdata\u001b[49m\u001b[43m,\u001b[49m\n\u001b[1;32m    795\u001b[0m \u001b[43m    \u001b[49m\u001b[43manns_field\u001b[49m\u001b[43m,\u001b[49m\n\u001b[1;32m    796\u001b[0m \u001b[43m    \u001b[49m\u001b[43mparam\u001b[49m\u001b[43m,\u001b[49m\n\u001b[1;32m    797\u001b[0m \u001b[43m    \u001b[49m\u001b[43mlimit\u001b[49m\u001b[43m,\u001b[49m\n\u001b[1;32m    798\u001b[0m \u001b[43m    \u001b[49m\u001b[43mexpr\u001b[49m\u001b[43m,\u001b[49m\n\u001b[1;32m    799\u001b[0m \u001b[43m    \u001b[49m\u001b[43mpartition_names\u001b[49m\u001b[43m,\u001b[49m\n\u001b[1;32m    800\u001b[0m \u001b[43m    \u001b[49m\u001b[43moutput_fields\u001b[49m\u001b[43m,\u001b[49m\n\u001b[1;32m    801\u001b[0m \u001b[43m    \u001b[49m\u001b[43mround_decimal\u001b[49m\u001b[43m,\u001b[49m\n\u001b[1;32m    802\u001b[0m \u001b[43m    \u001b[49m\u001b[43mtimeout\u001b[49m\u001b[38;5;241;43m=\u001b[39;49m\u001b[43mtimeout\u001b[49m\u001b[43m,\u001b[49m\n\u001b[1;32m    803\u001b[0m \u001b[43m    \u001b[49m\u001b[43mschema\u001b[49m\u001b[38;5;241;43m=\u001b[39;49m\u001b[38;5;28;43mself\u001b[39;49m\u001b[38;5;241;43m.\u001b[39;49m\u001b[43m_schema_dict\u001b[49m\u001b[43m,\u001b[49m\n\u001b[1;32m    804\u001b[0m \u001b[43m    \u001b[49m\u001b[38;5;241;43m*\u001b[39;49m\u001b[38;5;241;43m*\u001b[39;49m\u001b[43mkwargs\u001b[49m\u001b[43m,\u001b[49m\n\u001b[1;32m    805\u001b[0m \u001b[43m\u001b[49m\u001b[43m)\u001b[49m\n\u001b[1;32m    807\u001b[0m \u001b[38;5;28;01mreturn\u001b[39;00m SearchFuture(resp) \u001b[38;5;28;01mif\u001b[39;00m kwargs\u001b[38;5;241m.\u001b[39mget(\u001b[38;5;124m\"\u001b[39m\u001b[38;5;124m_async\u001b[39m\u001b[38;5;124m\"\u001b[39m, \u001b[38;5;28;01mFalse\u001b[39;00m) \u001b[38;5;28;01melse\u001b[39;00m resp\n",
      "File \u001b[0;32m/opt/app-root/lib64/python3.9/site-packages/pymilvus/decorators.py:135\u001b[0m, in \u001b[0;36merror_handler.<locals>.wrapper.<locals>.handler\u001b[0;34m(*args, **kwargs)\u001b[0m\n\u001b[1;32m    134\u001b[0m     LOGGER\u001b[38;5;241m.\u001b[39merror(\u001b[38;5;124mf\u001b[39m\u001b[38;5;124m\"\u001b[39m\u001b[38;5;124mRPC error: [\u001b[39m\u001b[38;5;132;01m{\u001b[39;00minner_name\u001b[38;5;132;01m}\u001b[39;00m\u001b[38;5;124m], \u001b[39m\u001b[38;5;132;01m{\u001b[39;00me\u001b[38;5;132;01m}\u001b[39;00m\u001b[38;5;124m, <Time:\u001b[39m\u001b[38;5;132;01m{\u001b[39;00mrecord_dict\u001b[38;5;132;01m}\u001b[39;00m\u001b[38;5;124m>\u001b[39m\u001b[38;5;124m\"\u001b[39m)\n\u001b[0;32m--> 135\u001b[0m     \u001b[38;5;28;01mraise\u001b[39;00m e \u001b[38;5;28;01mfrom\u001b[39;00m \u001b[38;5;21;01me\u001b[39;00m\n\u001b[1;32m    136\u001b[0m \u001b[38;5;28;01mexcept\u001b[39;00m grpc\u001b[38;5;241m.\u001b[39mFutureTimeoutError \u001b[38;5;28;01mas\u001b[39;00m e:\n",
      "File \u001b[0;32m/opt/app-root/lib64/python3.9/site-packages/pymilvus/decorators.py:131\u001b[0m, in \u001b[0;36merror_handler.<locals>.wrapper.<locals>.handler\u001b[0;34m(*args, **kwargs)\u001b[0m\n\u001b[1;32m    130\u001b[0m     record_dict[\u001b[38;5;124m\"\u001b[39m\u001b[38;5;124mRPC start\u001b[39m\u001b[38;5;124m\"\u001b[39m] \u001b[38;5;241m=\u001b[39m \u001b[38;5;28mstr\u001b[39m(datetime\u001b[38;5;241m.\u001b[39mdatetime\u001b[38;5;241m.\u001b[39mnow())\n\u001b[0;32m--> 131\u001b[0m     \u001b[38;5;28;01mreturn\u001b[39;00m \u001b[43mfunc\u001b[49m\u001b[43m(\u001b[49m\u001b[38;5;241;43m*\u001b[39;49m\u001b[43margs\u001b[49m\u001b[43m,\u001b[49m\u001b[43m \u001b[49m\u001b[38;5;241;43m*\u001b[39;49m\u001b[38;5;241;43m*\u001b[39;49m\u001b[43mkwargs\u001b[49m\u001b[43m)\u001b[49m\n\u001b[1;32m    132\u001b[0m \u001b[38;5;28;01mexcept\u001b[39;00m MilvusException \u001b[38;5;28;01mas\u001b[39;00m e:\n",
      "File \u001b[0;32m/opt/app-root/lib64/python3.9/site-packages/pymilvus/decorators.py:170\u001b[0m, in \u001b[0;36mtracing_request.<locals>.wrapper.<locals>.handler\u001b[0;34m(self, *args, **kwargs)\u001b[0m\n\u001b[1;32m    169\u001b[0m     \u001b[38;5;28mself\u001b[39m\u001b[38;5;241m.\u001b[39mset_onetime_request_id(req_id)\n\u001b[0;32m--> 170\u001b[0m \u001b[38;5;28;01mreturn\u001b[39;00m \u001b[43mfunc\u001b[49m\u001b[43m(\u001b[49m\u001b[38;5;28;43mself\u001b[39;49m\u001b[43m,\u001b[49m\u001b[43m \u001b[49m\u001b[38;5;241;43m*\u001b[39;49m\u001b[43margs\u001b[49m\u001b[43m,\u001b[49m\u001b[43m \u001b[49m\u001b[38;5;241;43m*\u001b[39;49m\u001b[38;5;241;43m*\u001b[39;49m\u001b[43mkwargs\u001b[49m\u001b[43m)\u001b[49m\n",
      "File \u001b[0;32m/opt/app-root/lib64/python3.9/site-packages/pymilvus/decorators.py:110\u001b[0m, in \u001b[0;36mretry_on_rpc_failure.<locals>.wrapper.<locals>.handler\u001b[0;34m(*args, **kwargs)\u001b[0m\n\u001b[1;32m    109\u001b[0m     \u001b[38;5;28;01melse\u001b[39;00m:\n\u001b[0;32m--> 110\u001b[0m         \u001b[38;5;28;01mraise\u001b[39;00m e \u001b[38;5;28;01mfrom\u001b[39;00m \u001b[38;5;21;01me\u001b[39;00m\n\u001b[1;32m    111\u001b[0m \u001b[38;5;28;01mexcept\u001b[39;00m \u001b[38;5;167;01mException\u001b[39;00m \u001b[38;5;28;01mas\u001b[39;00m e:\n",
      "File \u001b[0;32m/opt/app-root/lib64/python3.9/site-packages/pymilvus/decorators.py:74\u001b[0m, in \u001b[0;36mretry_on_rpc_failure.<locals>.wrapper.<locals>.handler\u001b[0;34m(*args, **kwargs)\u001b[0m\n\u001b[1;32m     73\u001b[0m \u001b[38;5;28;01mtry\u001b[39;00m:\n\u001b[0;32m---> 74\u001b[0m     \u001b[38;5;28;01mreturn\u001b[39;00m \u001b[43mfunc\u001b[49m\u001b[43m(\u001b[49m\u001b[38;5;241;43m*\u001b[39;49m\u001b[43margs\u001b[49m\u001b[43m,\u001b[49m\u001b[43m \u001b[49m\u001b[38;5;241;43m*\u001b[39;49m\u001b[38;5;241;43m*\u001b[39;49m\u001b[43mkwargs\u001b[49m\u001b[43m)\u001b[49m\n\u001b[1;32m     75\u001b[0m \u001b[38;5;28;01mexcept\u001b[39;00m grpc\u001b[38;5;241m.\u001b[39mRpcError \u001b[38;5;28;01mas\u001b[39;00m e:\n\u001b[1;32m     76\u001b[0m     \u001b[38;5;66;03m# Reference: https://grpc.github.io/grpc/python/grpc.html#grpc-status-code\u001b[39;00m\n",
      "File \u001b[0;32m/opt/app-root/lib64/python3.9/site-packages/pymilvus/client/grpc_handler.py:742\u001b[0m, in \u001b[0;36mGrpcHandler.search\u001b[0;34m(self, collection_name, data, anns_field, param, limit, expression, partition_names, output_fields, round_decimal, timeout, **kwargs)\u001b[0m\n\u001b[1;32m    727\u001b[0m \u001b[38;5;129m@retry_on_rpc_failure\u001b[39m()\n\u001b[1;32m    728\u001b[0m \u001b[38;5;28;01mdef\u001b[39;00m \u001b[38;5;21msearch\u001b[39m(\n\u001b[1;32m    729\u001b[0m     \u001b[38;5;28mself\u001b[39m,\n\u001b[0;32m   (...)\u001b[0m\n\u001b[1;32m    740\u001b[0m     \u001b[38;5;241m*\u001b[39m\u001b[38;5;241m*\u001b[39mkwargs,\n\u001b[1;32m    741\u001b[0m ):\n\u001b[0;32m--> 742\u001b[0m     \u001b[43mcheck_pass_param\u001b[49m\u001b[43m(\u001b[49m\n\u001b[1;32m    743\u001b[0m \u001b[43m        \u001b[49m\u001b[43mlimit\u001b[49m\u001b[38;5;241;43m=\u001b[39;49m\u001b[43mlimit\u001b[49m\u001b[43m,\u001b[49m\n\u001b[1;32m    744\u001b[0m \u001b[43m        \u001b[49m\u001b[43mround_decimal\u001b[49m\u001b[38;5;241;43m=\u001b[39;49m\u001b[43mround_decimal\u001b[49m\u001b[43m,\u001b[49m\n\u001b[1;32m    745\u001b[0m \u001b[43m        \u001b[49m\u001b[43manns_field\u001b[49m\u001b[38;5;241;43m=\u001b[39;49m\u001b[43manns_field\u001b[49m\u001b[43m,\u001b[49m\n\u001b[1;32m    746\u001b[0m \u001b[43m        \u001b[49m\u001b[43msearch_data\u001b[49m\u001b[38;5;241;43m=\u001b[39;49m\u001b[43mdata\u001b[49m\u001b[43m,\u001b[49m\n\u001b[1;32m    747\u001b[0m \u001b[43m        \u001b[49m\u001b[43mpartition_name_array\u001b[49m\u001b[38;5;241;43m=\u001b[39;49m\u001b[43mpartition_names\u001b[49m\u001b[43m,\u001b[49m\n\u001b[1;32m    748\u001b[0m \u001b[43m        \u001b[49m\u001b[43moutput_fields\u001b[49m\u001b[38;5;241;43m=\u001b[39;49m\u001b[43moutput_fields\u001b[49m\u001b[43m,\u001b[49m\n\u001b[1;32m    749\u001b[0m \u001b[43m        \u001b[49m\u001b[43mguarantee_timestamp\u001b[49m\u001b[38;5;241;43m=\u001b[39;49m\u001b[43mkwargs\u001b[49m\u001b[38;5;241;43m.\u001b[39;49m\u001b[43mget\u001b[49m\u001b[43m(\u001b[49m\u001b[38;5;124;43m\"\u001b[39;49m\u001b[38;5;124;43mguarantee_timestamp\u001b[39;49m\u001b[38;5;124;43m\"\u001b[39;49m\u001b[43m,\u001b[49m\u001b[43m \u001b[49m\u001b[38;5;28;43;01mNone\u001b[39;49;00m\u001b[43m)\u001b[49m\u001b[43m,\u001b[49m\n\u001b[1;32m    750\u001b[0m \u001b[43m    \u001b[49m\u001b[43m)\u001b[49m\n\u001b[1;32m    752\u001b[0m     request \u001b[38;5;241m=\u001b[39m Prepare\u001b[38;5;241m.\u001b[39msearch_requests_with_expr(\n\u001b[1;32m    753\u001b[0m         collection_name,\n\u001b[1;32m    754\u001b[0m         data,\n\u001b[0;32m   (...)\u001b[0m\n\u001b[1;32m    762\u001b[0m         \u001b[38;5;241m*\u001b[39m\u001b[38;5;241m*\u001b[39mkwargs,\n\u001b[1;32m    763\u001b[0m     )\n",
      "File \u001b[0;32m/opt/app-root/lib64/python3.9/site-packages/pymilvus/client/check.py:320\u001b[0m, in \u001b[0;36mcheck_pass_param\u001b[0;34m(*_args, **kwargs)\u001b[0m\n\u001b[1;32m    319\u001b[0m \u001b[38;5;28;01mfor\u001b[39;00m key, value \u001b[38;5;129;01min\u001b[39;00m kwargs\u001b[38;5;241m.\u001b[39mitems():\n\u001b[0;32m--> 320\u001b[0m     \u001b[43mchecker\u001b[49m\u001b[38;5;241;43m.\u001b[39;49m\u001b[43mcheck\u001b[49m\u001b[43m(\u001b[49m\u001b[43mkey\u001b[49m\u001b[43m,\u001b[49m\u001b[43m \u001b[49m\u001b[43mvalue\u001b[49m\u001b[43m)\u001b[49m\n",
      "File \u001b[0;32m/opt/app-root/lib64/python3.9/site-packages/pymilvus/client/check.py:306\u001b[0m, in \u001b[0;36mParamChecker.check\u001b[0;34m(self, key, value)\u001b[0m\n\u001b[1;32m    305\u001b[0m     \u001b[38;5;28;01mif\u001b[39;00m \u001b[38;5;129;01mnot\u001b[39;00m \u001b[38;5;28mself\u001b[39m\u001b[38;5;241m.\u001b[39mcheck_dict[key](value):\n\u001b[0;32m--> 306\u001b[0m         \u001b[43m_raise_param_error\u001b[49m\u001b[43m(\u001b[49m\u001b[43mkey\u001b[49m\u001b[43m,\u001b[49m\u001b[43m \u001b[49m\u001b[43mvalue\u001b[49m\u001b[43m)\u001b[49m\n\u001b[1;32m    307\u001b[0m \u001b[38;5;28;01melse\u001b[39;00m:\n",
      "File \u001b[0;32m/opt/app-root/lib64/python3.9/site-packages/pymilvus/client/check.py:206\u001b[0m, in \u001b[0;36m_raise_param_error\u001b[0;34m(param_name, param_value)\u001b[0m\n\u001b[1;32m    205\u001b[0m \u001b[38;5;28;01mdef\u001b[39;00m \u001b[38;5;21m_raise_param_error\u001b[39m(param_name: \u001b[38;5;28mstr\u001b[39m, param_value: Any) \u001b[38;5;241m-\u001b[39m\u001b[38;5;241m>\u001b[39m \u001b[38;5;28;01mNone\u001b[39;00m:\n\u001b[0;32m--> 206\u001b[0m     \u001b[38;5;28;01mraise\u001b[39;00m ParamError(message\u001b[38;5;241m=\u001b[39m\u001b[38;5;124mf\u001b[39m\u001b[38;5;124m\"\u001b[39m\u001b[38;5;124m`\u001b[39m\u001b[38;5;132;01m{\u001b[39;00mparam_name\u001b[38;5;132;01m}\u001b[39;00m\u001b[38;5;124m` value \u001b[39m\u001b[38;5;132;01m{\u001b[39;00mparam_value\u001b[38;5;132;01m}\u001b[39;00m\u001b[38;5;124m is illegal\u001b[39m\u001b[38;5;124m\"\u001b[39m)\n",
      "\u001b[0;31mParamError\u001b[0m: <ParamError: (code=1, message=`search_data` value [dict_values([{'data': {'values': [0.014584872871637344, -0.06318628787994385, 0.04656320810317993, 0.0041893115267157555, 0.055654026567935944, -0.023691782727837563, -0.035480696707963943, -0.024649253115057945, 0.03860316798090935, -0.04051440954208374, -0.09852523356676102, -0.0668564885854721, -0.05555010586977005, -0.022397201508283615, 0.05034366250038147, -0.0031785545870661736, -0.002295487094670534, 0.06766505539417267, 0.00147917284630239, -0.008932314813137054, -0.01815999299287796, 0.008372127078473568, -0.005877046380192041, -0.06242193281650543, -0.11136991530656815, 0.06901022791862488, 0.020539313554763794, -0.0208711177110672, 0.06108584254980087, 0.031310658901929855, 0.006186673417687416, 0.02889353595674038, -0.0731697529554367, 0.016533030197024345, 0.041661959141492844, 0.02147749252617359, 0.0063850064761936665, -0.02691182866692543, 0.0011352173751220107, -0.08928168565034866, 0.03256421908736229, 0.06183486804366112, 0.009485910646617413, 0.06715354323387146, 0.0010236738016828895, -0.08174418658018112, -0.03011239506304264, 0.03800399601459503, 0.05713973566889763, -0.08928481489419937, -0.05991650000214577, 0.012595375999808311, 0.016711987555027008, 0.03370453044772148, -0.011783143505454063, -0.10805878043174744, 0.05128142237663269, -0.06735710054636002, -0.05274287983775139, -0.11574730277061462, 0.02844822220504284, -0.02746553160250187, 0.017946258187294006, -0.003775320015847683, 0.0393647737801075, -0.06837623566389084, 0.03376587852835655, 0.04379250854253769, 0.1569635272026062, -0.03761008754372597, -0.03829736262559891, -0.00125018204562366, 0.00467340461909771, -0.009071770124137402, 0.026751572266221046, 0.019619392231106758, 0.014807931147515774, -0.031202001497149467, -0.012176277115941048, -0.03639766946434975, -0.04712605103850365, -0.04259219765663147, 0.01858421228826046, 0.009825349785387516, 0.07071541994810104, 0.07400719821453094, -0.05820853263139725, 0.020972024649381638, 0.07550183683633804, 0.04037749394774437, -0.01543225347995758, 0.014572113752365112, -0.00942428782582283, -0.06688651442527771, 0.10454128682613373, 0.013365802355110645, 0.06941507011651993, -0.0736028179526329, 0.015428081154823303, 0.016179386526346207, 0.001234943512827158, -0.043790362775325775, -0.02884799800813198, 0.04575164243578911, -0.005305311176925898, 0.02328507974743843, -0.02936409041285515, 0.03720063343644142, -0.05117899179458618, -0.03842052444815636, 0.01352866180241108, 0.03587675839662552, 0.04136205464601517, 0.055047035217285156, 0.0142186488956213, 0.07815283536911011, -0.053977712988853455, -0.056122906506061554, -0.13236966729164124, 0.054615121334791183, -0.03248252347111702, 0.002509210491552949, -0.006499790120869875, 0.0988859012722969, 0.061471909284591675, -0.09130871295928955, -0.01921354979276657, -0.017373396083712578, 0.06439381837844849, -0.005483126733452082, 0.003399729495868087, -0.08230875432491302, 0.0437166690826416, 0.012396786361932755, 0.020581427961587906, -0.012061962857842445, -0.01756710186600685, 0.046470437198877335, 0.013456419110298157, 0.1026584655046463, -0.0667569488286972, 0.06711674481630325, 0.014108897186815739, -0.09340624511241913, 0.061370521783828735, -0.0048665013164281845, 0.00933636724948883, -0.005139284301549196, 0.04851497337222099, -0.05957512557506561, -0.009987762197852135, -0.03106587752699852, 0.00833495706319809, 0.06600100547075272, 0.01869024708867073, 0.008592687547206879, 0.054032836109399796, 0.03342051804065704, -0.025271669030189514, 0.07631026208400726, -0.034227803349494934, 0.06339805573225021, 0.02995457500219345, 0.002674761228263378, -0.036314092576503754, -0.06542003154754639, 0.05833638086915016, 0.07301187515258789, -0.00044458996853791177, 0.024072011932730675, 0.054900798946619034, -0.021689780056476593, -0.03487660363316536, -0.05602489784359932, 0.015433670952916145, -0.054005060344934464, -0.025644799694418907, -0.07043884694576263, -0.09363314509391785, 0.0004348485090304166, -0.012056720443069935, -0.09290433675050735, -0.06256331503391266, -0.07590273767709732, 0.04167597368359566, 0.007900455966591835, 0.0064818221144378185, 0.053002797067165375, -0.06750011444091797, -0.04483967274427414, -0.003854323411360383, 0.0312756709754467, -0.03812343627214432, 0.013369910418987274, -0.018640024587512016, -0.03937136381864548, -0.016028963029384613, 0.014098362997174263, -0.05233175680041313, 0.11216506361961365, -0.051747702062129974, 0.010560144670307636, 0.010651644319295883, 0.014653826132416725, -0.12515850365161896, -0.021001916378736496, -0.06555647403001785, 0.01375874038785696, 0.0016723958542570472, 0.05002404376864433, 0.008798393420875072, 0.026508741080760956, -0.035833388566970825, -0.002590681193396449, 0.08434350788593292, 0.027569904923439026, -0.06263944506645203, 0.028942950069904327, -0.02389315515756607, 0.016674384474754333, 0.043256741017103195, -0.00580583093687892, -0.061235301196575165, 1.6057734050232315e-33, -0.1492091566324234, -0.06065739691257477, -0.0023869825527071953, 0.09895540028810501, -0.0045413370244205, -0.06544184684753418, 0.028065068647265434, 0.058206818997859955, 0.05781853199005127, -0.03447922319173813, 0.016592135652899742, 0.06482477486133575, -0.04064421355724335, -0.07765158265829086, -0.07646887004375458, 0.007588179782032967, 0.0658290833234787, 0.049890872091054916, -0.02769753336906433, 0.02145177498459816, -0.004575575701892376, 0.023757895454764366, -0.03729231283068657, -0.05160095915198326, -0.03350529447197914, 0.10382034629583359, -0.0140005424618721, -0.05979413166642189, -0.0174234751611948, -0.048489656299352646, 0.019399244338274002, 0.10987498611211777, -0.05924583971500397, -0.03348465636372566, 0.029603581875562668, -0.0353844091296196, -0.003685267874971032, -0.024675825610756874, -0.03299764543771744, -0.05468814820051193, 0.10971824824810028, 0.010882362723350525, -0.04706621170043945, 0.04657239839434624, -0.034296467900276184, 0.03442617878317833, -0.0496404692530632, 0.014585250988602638, -0.012121649459004402, -0.13285408914089203, 0.047050029039382935, -0.02071719616651535, 0.06001737341284752, 0.014574199914932251, 0.008911359123885632, 0.002286734525114298, 0.04716602340340614, 0.03438242897391319, -0.06079953536391258, 0.014079793356359005, 0.03465615212917328, 0.04144585132598877, -0.0891789123415947, -0.0566045381128788, -0.0835319384932518, -0.08375360816717148, 0.02238568291068077, 0.05881341174244881, 0.039812132716178894, -0.05469474941492081, 0.05280223861336708, -0.009554049000144005, 0.11812502890825272, 0.053988274186849594, -0.05013333633542061, -0.017728354781866074, -0.015345875173807144, -0.006963836960494518, 0.047857291996479034, 0.04317903891205788, -0.0010581979295238853, -0.0587613545358181, 0.018984945490956306, -0.011532309465110302, 0.11344951391220093, 0.03621669486165047, -0.00383434584364295, -0.06820447742938995, 0.0132405124604702, 0.016602393239736557, -0.09857430309057236, 0.07078862190246582, 0.021691441535949707, -0.001023370074108243, 0.04721171781420708, 3.852177859996369e-32, -0.006423229817301035, 0.033488254994153976, 0.014528268948197365, 0.04720699414610863, -0.0929436907172203, -0.019785258919000626, -0.09689337760210037, 0.034317970275878906, 0.03616931289434433, -0.09267346560955048, 0.038904737681150436, -0.05591494217514992, 0.0562567338347435, -0.08508827537298203, 0.02379368059337139, 0.028874216601252556, 0.010712353512644768, 0.10465926676988602, -0.023036032915115356, -0.055224839597940445, -0.0855826810002327, 0.0920143872499466, 0.012590007856488228, 0.0017466493882238865, -0.05087079107761383, -0.037898723036050797, 0.04480414092540741, -0.03464238718152046, 0.0685521811246872, 0.035517800599336624, 0.05225042253732681, -0.02770010009407997, 0.017395706847310066, 0.08678565919399261, 0.014880580827593803, 0.07472119480371475, -0.0646403357386589, 0.10784274339675903, 0.10158834606409073, -0.04599706456065178, -0.006602074485272169, 0.02894851565361023, -0.03664414584636688, -0.022297361865639687, 0.008166681975126266, -0.04378227889537811, -0.015524359419941902, -0.09372594207525253, -0.0029912840109318495, 0.08970669656991959, 0.05921768769621849, 0.013423459604382515, 0.046341121196746826, -0.03201599046587944, 0.09078036993741989, 0.002246722113341093, 0.016627119854092598, -0.0438307486474514, 0.014466634951531887, -0.04049038514494896, 0.027568358927965164, -0.02540023997426033, -0.0029951739124953747, -0.01858036406338215]}}, {'name': 'EmbeddingModule', 'version': '0.0.1'}, 18])] is illegal)>",
      "\nThe above exception was the direct cause of the following exception:\n",
      "\u001b[0;31mParamError\u001b[0m                                Traceback (most recent call last)",
      "Cell \u001b[0;32mIn[15], line 2\u001b[0m\n\u001b[1;32m      1\u001b[0m query \u001b[38;5;241m=\u001b[39m \u001b[38;5;124m\"\u001b[39m\u001b[38;5;124mHow can I work with GPU and taints in OpenShift AI?\u001b[39m\u001b[38;5;124m\"\u001b[39m\n\u001b[0;32m----> 2\u001b[0m docs_with_score \u001b[38;5;241m=\u001b[39m \u001b[43mdb\u001b[49m\u001b[38;5;241;43m.\u001b[39;49m\u001b[43msimilarity_search_with_score\u001b[49m\u001b[43m(\u001b[49m\u001b[43mquery\u001b[49m\u001b[43m)\u001b[49m\n",
      "File \u001b[0;32m/opt/app-root/lib64/python3.9/site-packages/langchain_community/vectorstores/milvus.py:730\u001b[0m, in \u001b[0;36mMilvus.similarity_search_with_score\u001b[0;34m(self, query, k, param, expr, timeout, **kwargs)\u001b[0m\n\u001b[1;32m    728\u001b[0m embedding \u001b[38;5;241m=\u001b[39m \u001b[38;5;28mself\u001b[39m\u001b[38;5;241m.\u001b[39membedding_func\u001b[38;5;241m.\u001b[39membed_query(query)\n\u001b[1;32m    729\u001b[0m timeout \u001b[38;5;241m=\u001b[39m \u001b[38;5;28mself\u001b[39m\u001b[38;5;241m.\u001b[39mtimeout \u001b[38;5;129;01mor\u001b[39;00m timeout\n\u001b[0;32m--> 730\u001b[0m res \u001b[38;5;241m=\u001b[39m \u001b[38;5;28;43mself\u001b[39;49m\u001b[38;5;241;43m.\u001b[39;49m\u001b[43msimilarity_search_with_score_by_vector\u001b[49m\u001b[43m(\u001b[49m\n\u001b[1;32m    731\u001b[0m \u001b[43m    \u001b[49m\u001b[43membedding\u001b[49m\u001b[38;5;241;43m=\u001b[39;49m\u001b[43membedding\u001b[49m\u001b[43m,\u001b[49m\u001b[43m \u001b[49m\u001b[43mk\u001b[49m\u001b[38;5;241;43m=\u001b[39;49m\u001b[43mk\u001b[49m\u001b[43m,\u001b[49m\u001b[43m \u001b[49m\u001b[43mparam\u001b[49m\u001b[38;5;241;43m=\u001b[39;49m\u001b[43mparam\u001b[49m\u001b[43m,\u001b[49m\u001b[43m \u001b[49m\u001b[43mexpr\u001b[49m\u001b[38;5;241;43m=\u001b[39;49m\u001b[43mexpr\u001b[49m\u001b[43m,\u001b[49m\u001b[43m \u001b[49m\u001b[43mtimeout\u001b[49m\u001b[38;5;241;43m=\u001b[39;49m\u001b[43mtimeout\u001b[49m\u001b[43m,\u001b[49m\u001b[43m \u001b[49m\u001b[38;5;241;43m*\u001b[39;49m\u001b[38;5;241;43m*\u001b[39;49m\u001b[43mkwargs\u001b[49m\n\u001b[1;32m    732\u001b[0m \u001b[43m\u001b[49m\u001b[43m)\u001b[49m\n\u001b[1;32m    733\u001b[0m \u001b[38;5;28;01mreturn\u001b[39;00m res\n",
      "File \u001b[0;32m/opt/app-root/lib64/python3.9/site-packages/langchain_community/vectorstores/milvus.py:775\u001b[0m, in \u001b[0;36mMilvus.similarity_search_with_score_by_vector\u001b[0;34m(self, embedding, k, param, expr, timeout, **kwargs)\u001b[0m\n\u001b[1;32m    773\u001b[0m timeout \u001b[38;5;241m=\u001b[39m \u001b[38;5;28mself\u001b[39m\u001b[38;5;241m.\u001b[39mtimeout \u001b[38;5;129;01mor\u001b[39;00m timeout\n\u001b[1;32m    774\u001b[0m \u001b[38;5;66;03m# Perform the search.\u001b[39;00m\n\u001b[0;32m--> 775\u001b[0m res \u001b[38;5;241m=\u001b[39m \u001b[38;5;28;43mself\u001b[39;49m\u001b[38;5;241;43m.\u001b[39;49m\u001b[43mcol\u001b[49m\u001b[38;5;241;43m.\u001b[39;49m\u001b[43msearch\u001b[49m\u001b[43m(\u001b[49m\n\u001b[1;32m    776\u001b[0m \u001b[43m    \u001b[49m\u001b[43mdata\u001b[49m\u001b[38;5;241;43m=\u001b[39;49m\u001b[43m[\u001b[49m\u001b[43membedding\u001b[49m\u001b[43m]\u001b[49m\u001b[43m,\u001b[49m\n\u001b[1;32m    777\u001b[0m \u001b[43m    \u001b[49m\u001b[43manns_field\u001b[49m\u001b[38;5;241;43m=\u001b[39;49m\u001b[38;5;28;43mself\u001b[39;49m\u001b[38;5;241;43m.\u001b[39;49m\u001b[43m_vector_field\u001b[49m\u001b[43m,\u001b[49m\n\u001b[1;32m    778\u001b[0m \u001b[43m    \u001b[49m\u001b[43mparam\u001b[49m\u001b[38;5;241;43m=\u001b[39;49m\u001b[43mparam\u001b[49m\u001b[43m,\u001b[49m\n\u001b[1;32m    779\u001b[0m \u001b[43m    \u001b[49m\u001b[43mlimit\u001b[49m\u001b[38;5;241;43m=\u001b[39;49m\u001b[43mk\u001b[49m\u001b[43m,\u001b[49m\n\u001b[1;32m    780\u001b[0m \u001b[43m    \u001b[49m\u001b[43mexpr\u001b[49m\u001b[38;5;241;43m=\u001b[39;49m\u001b[43mexpr\u001b[49m\u001b[43m,\u001b[49m\n\u001b[1;32m    781\u001b[0m \u001b[43m    \u001b[49m\u001b[43moutput_fields\u001b[49m\u001b[38;5;241;43m=\u001b[39;49m\u001b[43moutput_fields\u001b[49m\u001b[43m,\u001b[49m\n\u001b[1;32m    782\u001b[0m \u001b[43m    \u001b[49m\u001b[43mtimeout\u001b[49m\u001b[38;5;241;43m=\u001b[39;49m\u001b[43mtimeout\u001b[49m\u001b[43m,\u001b[49m\n\u001b[1;32m    783\u001b[0m \u001b[43m    \u001b[49m\u001b[38;5;241;43m*\u001b[39;49m\u001b[38;5;241;43m*\u001b[39;49m\u001b[43mkwargs\u001b[49m\u001b[43m,\u001b[49m\n\u001b[1;32m    784\u001b[0m \u001b[43m\u001b[49m\u001b[43m)\u001b[49m\n\u001b[1;32m    785\u001b[0m \u001b[38;5;66;03m# Organize results.\u001b[39;00m\n\u001b[1;32m    786\u001b[0m ret \u001b[38;5;241m=\u001b[39m []\n",
      "File \u001b[0;32m/opt/app-root/lib64/python3.9/site-packages/pymilvus/orm/collection.py:792\u001b[0m, in \u001b[0;36mCollection.search\u001b[0;34m(self, data, anns_field, param, limit, expr, partition_names, output_fields, timeout, round_decimal, **kwargs)\u001b[0m\n\u001b[1;32m    789\u001b[0m     \u001b[38;5;28;01mreturn\u001b[39;00m SearchFuture(\u001b[38;5;28;01mNone\u001b[39;00m) \u001b[38;5;28;01mif\u001b[39;00m kwargs\u001b[38;5;241m.\u001b[39mget(\u001b[38;5;124m\"\u001b[39m\u001b[38;5;124m_async\u001b[39m\u001b[38;5;124m\"\u001b[39m, \u001b[38;5;28;01mFalse\u001b[39;00m) \u001b[38;5;28;01melse\u001b[39;00m resp\n\u001b[1;32m    791\u001b[0m conn \u001b[38;5;241m=\u001b[39m \u001b[38;5;28mself\u001b[39m\u001b[38;5;241m.\u001b[39m_get_connection()\n\u001b[0;32m--> 792\u001b[0m resp \u001b[38;5;241m=\u001b[39m \u001b[43mconn\u001b[49m\u001b[38;5;241;43m.\u001b[39;49m\u001b[43msearch\u001b[49m\u001b[43m(\u001b[49m\n\u001b[1;32m    793\u001b[0m \u001b[43m    \u001b[49m\u001b[38;5;28;43mself\u001b[39;49m\u001b[38;5;241;43m.\u001b[39;49m\u001b[43m_name\u001b[49m\u001b[43m,\u001b[49m\n\u001b[1;32m    794\u001b[0m \u001b[43m    \u001b[49m\u001b[43mdata\u001b[49m\u001b[43m,\u001b[49m\n\u001b[1;32m    795\u001b[0m \u001b[43m    \u001b[49m\u001b[43manns_field\u001b[49m\u001b[43m,\u001b[49m\n\u001b[1;32m    796\u001b[0m \u001b[43m    \u001b[49m\u001b[43mparam\u001b[49m\u001b[43m,\u001b[49m\n\u001b[1;32m    797\u001b[0m \u001b[43m    \u001b[49m\u001b[43mlimit\u001b[49m\u001b[43m,\u001b[49m\n\u001b[1;32m    798\u001b[0m \u001b[43m    \u001b[49m\u001b[43mexpr\u001b[49m\u001b[43m,\u001b[49m\n\u001b[1;32m    799\u001b[0m \u001b[43m    \u001b[49m\u001b[43mpartition_names\u001b[49m\u001b[43m,\u001b[49m\n\u001b[1;32m    800\u001b[0m \u001b[43m    \u001b[49m\u001b[43moutput_fields\u001b[49m\u001b[43m,\u001b[49m\n\u001b[1;32m    801\u001b[0m \u001b[43m    \u001b[49m\u001b[43mround_decimal\u001b[49m\u001b[43m,\u001b[49m\n\u001b[1;32m    802\u001b[0m \u001b[43m    \u001b[49m\u001b[43mtimeout\u001b[49m\u001b[38;5;241;43m=\u001b[39;49m\u001b[43mtimeout\u001b[49m\u001b[43m,\u001b[49m\n\u001b[1;32m    803\u001b[0m \u001b[43m    \u001b[49m\u001b[43mschema\u001b[49m\u001b[38;5;241;43m=\u001b[39;49m\u001b[38;5;28;43mself\u001b[39;49m\u001b[38;5;241;43m.\u001b[39;49m\u001b[43m_schema_dict\u001b[49m\u001b[43m,\u001b[49m\n\u001b[1;32m    804\u001b[0m \u001b[43m    \u001b[49m\u001b[38;5;241;43m*\u001b[39;49m\u001b[38;5;241;43m*\u001b[39;49m\u001b[43mkwargs\u001b[49m\u001b[43m,\u001b[49m\n\u001b[1;32m    805\u001b[0m \u001b[43m\u001b[49m\u001b[43m)\u001b[49m\n\u001b[1;32m    807\u001b[0m \u001b[38;5;28;01mreturn\u001b[39;00m SearchFuture(resp) \u001b[38;5;28;01mif\u001b[39;00m kwargs\u001b[38;5;241m.\u001b[39mget(\u001b[38;5;124m\"\u001b[39m\u001b[38;5;124m_async\u001b[39m\u001b[38;5;124m\"\u001b[39m, \u001b[38;5;28;01mFalse\u001b[39;00m) \u001b[38;5;28;01melse\u001b[39;00m resp\n",
      "File \u001b[0;32m/opt/app-root/lib64/python3.9/site-packages/pymilvus/decorators.py:135\u001b[0m, in \u001b[0;36merror_handler.<locals>.wrapper.<locals>.handler\u001b[0;34m(*args, **kwargs)\u001b[0m\n\u001b[1;32m    133\u001b[0m     record_dict[\u001b[38;5;124m\"\u001b[39m\u001b[38;5;124mRPC error\u001b[39m\u001b[38;5;124m\"\u001b[39m] \u001b[38;5;241m=\u001b[39m \u001b[38;5;28mstr\u001b[39m(datetime\u001b[38;5;241m.\u001b[39mdatetime\u001b[38;5;241m.\u001b[39mnow())\n\u001b[1;32m    134\u001b[0m     LOGGER\u001b[38;5;241m.\u001b[39merror(\u001b[38;5;124mf\u001b[39m\u001b[38;5;124m\"\u001b[39m\u001b[38;5;124mRPC error: [\u001b[39m\u001b[38;5;132;01m{\u001b[39;00minner_name\u001b[38;5;132;01m}\u001b[39;00m\u001b[38;5;124m], \u001b[39m\u001b[38;5;132;01m{\u001b[39;00me\u001b[38;5;132;01m}\u001b[39;00m\u001b[38;5;124m, <Time:\u001b[39m\u001b[38;5;132;01m{\u001b[39;00mrecord_dict\u001b[38;5;132;01m}\u001b[39;00m\u001b[38;5;124m>\u001b[39m\u001b[38;5;124m\"\u001b[39m)\n\u001b[0;32m--> 135\u001b[0m     \u001b[38;5;28;01mraise\u001b[39;00m e \u001b[38;5;28;01mfrom\u001b[39;00m \u001b[38;5;21;01me\u001b[39;00m\n\u001b[1;32m    136\u001b[0m \u001b[38;5;28;01mexcept\u001b[39;00m grpc\u001b[38;5;241m.\u001b[39mFutureTimeoutError \u001b[38;5;28;01mas\u001b[39;00m e:\n\u001b[1;32m    137\u001b[0m     record_dict[\u001b[38;5;124m\"\u001b[39m\u001b[38;5;124mgRPC timeout\u001b[39m\u001b[38;5;124m\"\u001b[39m] \u001b[38;5;241m=\u001b[39m \u001b[38;5;28mstr\u001b[39m(datetime\u001b[38;5;241m.\u001b[39mdatetime\u001b[38;5;241m.\u001b[39mnow())\n",
      "File \u001b[0;32m/opt/app-root/lib64/python3.9/site-packages/pymilvus/decorators.py:131\u001b[0m, in \u001b[0;36merror_handler.<locals>.wrapper.<locals>.handler\u001b[0;34m(*args, **kwargs)\u001b[0m\n\u001b[1;32m    129\u001b[0m \u001b[38;5;28;01mtry\u001b[39;00m:\n\u001b[1;32m    130\u001b[0m     record_dict[\u001b[38;5;124m\"\u001b[39m\u001b[38;5;124mRPC start\u001b[39m\u001b[38;5;124m\"\u001b[39m] \u001b[38;5;241m=\u001b[39m \u001b[38;5;28mstr\u001b[39m(datetime\u001b[38;5;241m.\u001b[39mdatetime\u001b[38;5;241m.\u001b[39mnow())\n\u001b[0;32m--> 131\u001b[0m     \u001b[38;5;28;01mreturn\u001b[39;00m \u001b[43mfunc\u001b[49m\u001b[43m(\u001b[49m\u001b[38;5;241;43m*\u001b[39;49m\u001b[43margs\u001b[49m\u001b[43m,\u001b[49m\u001b[43m \u001b[49m\u001b[38;5;241;43m*\u001b[39;49m\u001b[38;5;241;43m*\u001b[39;49m\u001b[43mkwargs\u001b[49m\u001b[43m)\u001b[49m\n\u001b[1;32m    132\u001b[0m \u001b[38;5;28;01mexcept\u001b[39;00m MilvusException \u001b[38;5;28;01mas\u001b[39;00m e:\n\u001b[1;32m    133\u001b[0m     record_dict[\u001b[38;5;124m\"\u001b[39m\u001b[38;5;124mRPC error\u001b[39m\u001b[38;5;124m\"\u001b[39m] \u001b[38;5;241m=\u001b[39m \u001b[38;5;28mstr\u001b[39m(datetime\u001b[38;5;241m.\u001b[39mdatetime\u001b[38;5;241m.\u001b[39mnow())\n",
      "File \u001b[0;32m/opt/app-root/lib64/python3.9/site-packages/pymilvus/decorators.py:170\u001b[0m, in \u001b[0;36mtracing_request.<locals>.wrapper.<locals>.handler\u001b[0;34m(self, *args, **kwargs)\u001b[0m\n\u001b[1;32m    168\u001b[0m \u001b[38;5;28;01mif\u001b[39;00m req_id:\n\u001b[1;32m    169\u001b[0m     \u001b[38;5;28mself\u001b[39m\u001b[38;5;241m.\u001b[39mset_onetime_request_id(req_id)\n\u001b[0;32m--> 170\u001b[0m \u001b[38;5;28;01mreturn\u001b[39;00m \u001b[43mfunc\u001b[49m\u001b[43m(\u001b[49m\u001b[38;5;28;43mself\u001b[39;49m\u001b[43m,\u001b[49m\u001b[43m \u001b[49m\u001b[38;5;241;43m*\u001b[39;49m\u001b[43margs\u001b[49m\u001b[43m,\u001b[49m\u001b[43m \u001b[49m\u001b[38;5;241;43m*\u001b[39;49m\u001b[38;5;241;43m*\u001b[39;49m\u001b[43mkwargs\u001b[49m\u001b[43m)\u001b[49m\n",
      "File \u001b[0;32m/opt/app-root/lib64/python3.9/site-packages/pymilvus/decorators.py:110\u001b[0m, in \u001b[0;36mretry_on_rpc_failure.<locals>.wrapper.<locals>.handler\u001b[0;34m(*args, **kwargs)\u001b[0m\n\u001b[1;32m    108\u001b[0m         back_off \u001b[38;5;241m=\u001b[39m \u001b[38;5;28mmin\u001b[39m(back_off \u001b[38;5;241m*\u001b[39m back_off_multiplier, max_back_off)\n\u001b[1;32m    109\u001b[0m     \u001b[38;5;28;01melse\u001b[39;00m:\n\u001b[0;32m--> 110\u001b[0m         \u001b[38;5;28;01mraise\u001b[39;00m e \u001b[38;5;28;01mfrom\u001b[39;00m \u001b[38;5;21;01me\u001b[39;00m\n\u001b[1;32m    111\u001b[0m \u001b[38;5;28;01mexcept\u001b[39;00m \u001b[38;5;167;01mException\u001b[39;00m \u001b[38;5;28;01mas\u001b[39;00m e:\n\u001b[1;32m    112\u001b[0m     \u001b[38;5;28;01mraise\u001b[39;00m e \u001b[38;5;28;01mfrom\u001b[39;00m \u001b[38;5;21;01me\u001b[39;00m\n",
      "File \u001b[0;32m/opt/app-root/lib64/python3.9/site-packages/pymilvus/decorators.py:74\u001b[0m, in \u001b[0;36mretry_on_rpc_failure.<locals>.wrapper.<locals>.handler\u001b[0;34m(*args, **kwargs)\u001b[0m\n\u001b[1;32m     72\u001b[0m \u001b[38;5;28;01mwhile\u001b[39;00m \u001b[38;5;28;01mTrue\u001b[39;00m:\n\u001b[1;32m     73\u001b[0m     \u001b[38;5;28;01mtry\u001b[39;00m:\n\u001b[0;32m---> 74\u001b[0m         \u001b[38;5;28;01mreturn\u001b[39;00m \u001b[43mfunc\u001b[49m\u001b[43m(\u001b[49m\u001b[38;5;241;43m*\u001b[39;49m\u001b[43margs\u001b[49m\u001b[43m,\u001b[49m\u001b[43m \u001b[49m\u001b[38;5;241;43m*\u001b[39;49m\u001b[38;5;241;43m*\u001b[39;49m\u001b[43mkwargs\u001b[49m\u001b[43m)\u001b[49m\n\u001b[1;32m     75\u001b[0m     \u001b[38;5;28;01mexcept\u001b[39;00m grpc\u001b[38;5;241m.\u001b[39mRpcError \u001b[38;5;28;01mas\u001b[39;00m e:\n\u001b[1;32m     76\u001b[0m         \u001b[38;5;66;03m# Reference: https://grpc.github.io/grpc/python/grpc.html#grpc-status-code\u001b[39;00m\n\u001b[1;32m     77\u001b[0m         \u001b[38;5;28;01mif\u001b[39;00m e\u001b[38;5;241m.\u001b[39mcode() \u001b[38;5;129;01min\u001b[39;00m (\n\u001b[1;32m     78\u001b[0m             grpc\u001b[38;5;241m.\u001b[39mStatusCode\u001b[38;5;241m.\u001b[39mDEADLINE_EXCEEDED,\n\u001b[1;32m     79\u001b[0m             grpc\u001b[38;5;241m.\u001b[39mStatusCode\u001b[38;5;241m.\u001b[39mPERMISSION_DENIED,\n\u001b[0;32m   (...)\u001b[0m\n\u001b[1;32m     83\u001b[0m             grpc\u001b[38;5;241m.\u001b[39mStatusCode\u001b[38;5;241m.\u001b[39mRESOURCE_EXHAUSTED,\n\u001b[1;32m     84\u001b[0m         ):\n",
      "File \u001b[0;32m/opt/app-root/lib64/python3.9/site-packages/pymilvus/client/grpc_handler.py:742\u001b[0m, in \u001b[0;36mGrpcHandler.search\u001b[0;34m(self, collection_name, data, anns_field, param, limit, expression, partition_names, output_fields, round_decimal, timeout, **kwargs)\u001b[0m\n\u001b[1;32m    727\u001b[0m \u001b[38;5;129m@retry_on_rpc_failure\u001b[39m()\n\u001b[1;32m    728\u001b[0m \u001b[38;5;28;01mdef\u001b[39;00m \u001b[38;5;21msearch\u001b[39m(\n\u001b[1;32m    729\u001b[0m     \u001b[38;5;28mself\u001b[39m,\n\u001b[0;32m   (...)\u001b[0m\n\u001b[1;32m    740\u001b[0m     \u001b[38;5;241m*\u001b[39m\u001b[38;5;241m*\u001b[39mkwargs,\n\u001b[1;32m    741\u001b[0m ):\n\u001b[0;32m--> 742\u001b[0m     \u001b[43mcheck_pass_param\u001b[49m\u001b[43m(\u001b[49m\n\u001b[1;32m    743\u001b[0m \u001b[43m        \u001b[49m\u001b[43mlimit\u001b[49m\u001b[38;5;241;43m=\u001b[39;49m\u001b[43mlimit\u001b[49m\u001b[43m,\u001b[49m\n\u001b[1;32m    744\u001b[0m \u001b[43m        \u001b[49m\u001b[43mround_decimal\u001b[49m\u001b[38;5;241;43m=\u001b[39;49m\u001b[43mround_decimal\u001b[49m\u001b[43m,\u001b[49m\n\u001b[1;32m    745\u001b[0m \u001b[43m        \u001b[49m\u001b[43manns_field\u001b[49m\u001b[38;5;241;43m=\u001b[39;49m\u001b[43manns_field\u001b[49m\u001b[43m,\u001b[49m\n\u001b[1;32m    746\u001b[0m \u001b[43m        \u001b[49m\u001b[43msearch_data\u001b[49m\u001b[38;5;241;43m=\u001b[39;49m\u001b[43mdata\u001b[49m\u001b[43m,\u001b[49m\n\u001b[1;32m    747\u001b[0m \u001b[43m        \u001b[49m\u001b[43mpartition_name_array\u001b[49m\u001b[38;5;241;43m=\u001b[39;49m\u001b[43mpartition_names\u001b[49m\u001b[43m,\u001b[49m\n\u001b[1;32m    748\u001b[0m \u001b[43m        \u001b[49m\u001b[43moutput_fields\u001b[49m\u001b[38;5;241;43m=\u001b[39;49m\u001b[43moutput_fields\u001b[49m\u001b[43m,\u001b[49m\n\u001b[1;32m    749\u001b[0m \u001b[43m        \u001b[49m\u001b[43mguarantee_timestamp\u001b[49m\u001b[38;5;241;43m=\u001b[39;49m\u001b[43mkwargs\u001b[49m\u001b[38;5;241;43m.\u001b[39;49m\u001b[43mget\u001b[49m\u001b[43m(\u001b[49m\u001b[38;5;124;43m\"\u001b[39;49m\u001b[38;5;124;43mguarantee_timestamp\u001b[39;49m\u001b[38;5;124;43m\"\u001b[39;49m\u001b[43m,\u001b[49m\u001b[43m \u001b[49m\u001b[38;5;28;43;01mNone\u001b[39;49;00m\u001b[43m)\u001b[49m\u001b[43m,\u001b[49m\n\u001b[1;32m    750\u001b[0m \u001b[43m    \u001b[49m\u001b[43m)\u001b[49m\n\u001b[1;32m    752\u001b[0m     request \u001b[38;5;241m=\u001b[39m Prepare\u001b[38;5;241m.\u001b[39msearch_requests_with_expr(\n\u001b[1;32m    753\u001b[0m         collection_name,\n\u001b[1;32m    754\u001b[0m         data,\n\u001b[0;32m   (...)\u001b[0m\n\u001b[1;32m    762\u001b[0m         \u001b[38;5;241m*\u001b[39m\u001b[38;5;241m*\u001b[39mkwargs,\n\u001b[1;32m    763\u001b[0m     )\n\u001b[1;32m    764\u001b[0m     \u001b[38;5;28;01mreturn\u001b[39;00m \u001b[38;5;28mself\u001b[39m\u001b[38;5;241m.\u001b[39m_execute_search(request, timeout, round_decimal\u001b[38;5;241m=\u001b[39mround_decimal, \u001b[38;5;241m*\u001b[39m\u001b[38;5;241m*\u001b[39mkwargs)\n",
      "File \u001b[0;32m/opt/app-root/lib64/python3.9/site-packages/pymilvus/client/check.py:320\u001b[0m, in \u001b[0;36mcheck_pass_param\u001b[0;34m(*_args, **kwargs)\u001b[0m\n\u001b[1;32m    318\u001b[0m checker \u001b[38;5;241m=\u001b[39m _get_param_checker()\n\u001b[1;32m    319\u001b[0m \u001b[38;5;28;01mfor\u001b[39;00m key, value \u001b[38;5;129;01min\u001b[39;00m kwargs\u001b[38;5;241m.\u001b[39mitems():\n\u001b[0;32m--> 320\u001b[0m     \u001b[43mchecker\u001b[49m\u001b[38;5;241;43m.\u001b[39;49m\u001b[43mcheck\u001b[49m\u001b[43m(\u001b[49m\u001b[43mkey\u001b[49m\u001b[43m,\u001b[49m\u001b[43m \u001b[49m\u001b[43mvalue\u001b[49m\u001b[43m)\u001b[49m\n",
      "File \u001b[0;32m/opt/app-root/lib64/python3.9/site-packages/pymilvus/client/check.py:306\u001b[0m, in \u001b[0;36mParamChecker.check\u001b[0;34m(self, key, value)\u001b[0m\n\u001b[1;32m    304\u001b[0m \u001b[38;5;28;01mif\u001b[39;00m key \u001b[38;5;129;01min\u001b[39;00m \u001b[38;5;28mself\u001b[39m\u001b[38;5;241m.\u001b[39mcheck_dict:\n\u001b[1;32m    305\u001b[0m     \u001b[38;5;28;01mif\u001b[39;00m \u001b[38;5;129;01mnot\u001b[39;00m \u001b[38;5;28mself\u001b[39m\u001b[38;5;241m.\u001b[39mcheck_dict[key](value):\n\u001b[0;32m--> 306\u001b[0m         \u001b[43m_raise_param_error\u001b[49m\u001b[43m(\u001b[49m\u001b[43mkey\u001b[49m\u001b[43m,\u001b[49m\u001b[43m \u001b[49m\u001b[43mvalue\u001b[49m\u001b[43m)\u001b[49m\n\u001b[1;32m    307\u001b[0m \u001b[38;5;28;01melse\u001b[39;00m:\n\u001b[1;32m    308\u001b[0m     \u001b[38;5;28;01mraise\u001b[39;00m ParamError(message\u001b[38;5;241m=\u001b[39m\u001b[38;5;124mf\u001b[39m\u001b[38;5;124m\"\u001b[39m\u001b[38;5;124munknown param `\u001b[39m\u001b[38;5;132;01m{\u001b[39;00mkey\u001b[38;5;132;01m}\u001b[39;00m\u001b[38;5;124m`\u001b[39m\u001b[38;5;124m\"\u001b[39m)\n",
      "File \u001b[0;32m/opt/app-root/lib64/python3.9/site-packages/pymilvus/client/check.py:206\u001b[0m, in \u001b[0;36m_raise_param_error\u001b[0;34m(param_name, param_value)\u001b[0m\n\u001b[1;32m    205\u001b[0m \u001b[38;5;28;01mdef\u001b[39;00m \u001b[38;5;21m_raise_param_error\u001b[39m(param_name: \u001b[38;5;28mstr\u001b[39m, param_value: Any) \u001b[38;5;241m-\u001b[39m\u001b[38;5;241m>\u001b[39m \u001b[38;5;28;01mNone\u001b[39;00m:\n\u001b[0;32m--> 206\u001b[0m     \u001b[38;5;28;01mraise\u001b[39;00m ParamError(message\u001b[38;5;241m=\u001b[39m\u001b[38;5;124mf\u001b[39m\u001b[38;5;124m\"\u001b[39m\u001b[38;5;124m`\u001b[39m\u001b[38;5;132;01m{\u001b[39;00mparam_name\u001b[38;5;132;01m}\u001b[39;00m\u001b[38;5;124m` value \u001b[39m\u001b[38;5;132;01m{\u001b[39;00mparam_value\u001b[38;5;132;01m}\u001b[39;00m\u001b[38;5;124m is illegal\u001b[39m\u001b[38;5;124m\"\u001b[39m)\n",
      "\u001b[0;31mParamError\u001b[0m: <ParamError: (code=1, message=`search_data` value [dict_values([{'data': {'values': [0.014584872871637344, -0.06318628787994385, 0.04656320810317993, 0.0041893115267157555, 0.055654026567935944, -0.023691782727837563, -0.035480696707963943, -0.024649253115057945, 0.03860316798090935, -0.04051440954208374, -0.09852523356676102, -0.0668564885854721, -0.05555010586977005, -0.022397201508283615, 0.05034366250038147, -0.0031785545870661736, -0.002295487094670534, 0.06766505539417267, 0.00147917284630239, -0.008932314813137054, -0.01815999299287796, 0.008372127078473568, -0.005877046380192041, -0.06242193281650543, -0.11136991530656815, 0.06901022791862488, 0.020539313554763794, -0.0208711177110672, 0.06108584254980087, 0.031310658901929855, 0.006186673417687416, 0.02889353595674038, -0.0731697529554367, 0.016533030197024345, 0.041661959141492844, 0.02147749252617359, 0.0063850064761936665, -0.02691182866692543, 0.0011352173751220107, -0.08928168565034866, 0.03256421908736229, 0.06183486804366112, 0.009485910646617413, 0.06715354323387146, 0.0010236738016828895, -0.08174418658018112, -0.03011239506304264, 0.03800399601459503, 0.05713973566889763, -0.08928481489419937, -0.05991650000214577, 0.012595375999808311, 0.016711987555027008, 0.03370453044772148, -0.011783143505454063, -0.10805878043174744, 0.05128142237663269, -0.06735710054636002, -0.05274287983775139, -0.11574730277061462, 0.02844822220504284, -0.02746553160250187, 0.017946258187294006, -0.003775320015847683, 0.0393647737801075, -0.06837623566389084, 0.03376587852835655, 0.04379250854253769, 0.1569635272026062, -0.03761008754372597, -0.03829736262559891, -0.00125018204562366, 0.00467340461909771, -0.009071770124137402, 0.026751572266221046, 0.019619392231106758, 0.014807931147515774, -0.031202001497149467, -0.012176277115941048, -0.03639766946434975, -0.04712605103850365, -0.04259219765663147, 0.01858421228826046, 0.009825349785387516, 0.07071541994810104, 0.07400719821453094, -0.05820853263139725, 0.020972024649381638, 0.07550183683633804, 0.04037749394774437, -0.01543225347995758, 0.014572113752365112, -0.00942428782582283, -0.06688651442527771, 0.10454128682613373, 0.013365802355110645, 0.06941507011651993, -0.0736028179526329, 0.015428081154823303, 0.016179386526346207, 0.001234943512827158, -0.043790362775325775, -0.02884799800813198, 0.04575164243578911, -0.005305311176925898, 0.02328507974743843, -0.02936409041285515, 0.03720063343644142, -0.05117899179458618, -0.03842052444815636, 0.01352866180241108, 0.03587675839662552, 0.04136205464601517, 0.055047035217285156, 0.0142186488956213, 0.07815283536911011, -0.053977712988853455, -0.056122906506061554, -0.13236966729164124, 0.054615121334791183, -0.03248252347111702, 0.002509210491552949, -0.006499790120869875, 0.0988859012722969, 0.061471909284591675, -0.09130871295928955, -0.01921354979276657, -0.017373396083712578, 0.06439381837844849, -0.005483126733452082, 0.003399729495868087, -0.08230875432491302, 0.0437166690826416, 0.012396786361932755, 0.020581427961587906, -0.012061962857842445, -0.01756710186600685, 0.046470437198877335, 0.013456419110298157, 0.1026584655046463, -0.0667569488286972, 0.06711674481630325, 0.014108897186815739, -0.09340624511241913, 0.061370521783828735, -0.0048665013164281845, 0.00933636724948883, -0.005139284301549196, 0.04851497337222099, -0.05957512557506561, -0.009987762197852135, -0.03106587752699852, 0.00833495706319809, 0.06600100547075272, 0.01869024708867073, 0.008592687547206879, 0.054032836109399796, 0.03342051804065704, -0.025271669030189514, 0.07631026208400726, -0.034227803349494934, 0.06339805573225021, 0.02995457500219345, 0.002674761228263378, -0.036314092576503754, -0.06542003154754639, 0.05833638086915016, 0.07301187515258789, -0.00044458996853791177, 0.024072011932730675, 0.054900798946619034, -0.021689780056476593, -0.03487660363316536, -0.05602489784359932, 0.015433670952916145, -0.054005060344934464, -0.025644799694418907, -0.07043884694576263, -0.09363314509391785, 0.0004348485090304166, -0.012056720443069935, -0.09290433675050735, -0.06256331503391266, -0.07590273767709732, 0.04167597368359566, 0.007900455966591835, 0.0064818221144378185, 0.053002797067165375, -0.06750011444091797, -0.04483967274427414, -0.003854323411360383, 0.0312756709754467, -0.03812343627214432, 0.013369910418987274, -0.018640024587512016, -0.03937136381864548, -0.016028963029384613, 0.014098362997174263, -0.05233175680041313, 0.11216506361961365, -0.051747702062129974, 0.010560144670307636, 0.010651644319295883, 0.014653826132416725, -0.12515850365161896, -0.021001916378736496, -0.06555647403001785, 0.01375874038785696, 0.0016723958542570472, 0.05002404376864433, 0.008798393420875072, 0.026508741080760956, -0.035833388566970825, -0.002590681193396449, 0.08434350788593292, 0.027569904923439026, -0.06263944506645203, 0.028942950069904327, -0.02389315515756607, 0.016674384474754333, 0.043256741017103195, -0.00580583093687892, -0.061235301196575165, 1.6057734050232315e-33, -0.1492091566324234, -0.06065739691257477, -0.0023869825527071953, 0.09895540028810501, -0.0045413370244205, -0.06544184684753418, 0.028065068647265434, 0.058206818997859955, 0.05781853199005127, -0.03447922319173813, 0.016592135652899742, 0.06482477486133575, -0.04064421355724335, -0.07765158265829086, -0.07646887004375458, 0.007588179782032967, 0.0658290833234787, 0.049890872091054916, -0.02769753336906433, 0.02145177498459816, -0.004575575701892376, 0.023757895454764366, -0.03729231283068657, -0.05160095915198326, -0.03350529447197914, 0.10382034629583359, -0.0140005424618721, -0.05979413166642189, -0.0174234751611948, -0.048489656299352646, 0.019399244338274002, 0.10987498611211777, -0.05924583971500397, -0.03348465636372566, 0.029603581875562668, -0.0353844091296196, -0.003685267874971032, -0.024675825610756874, -0.03299764543771744, -0.05468814820051193, 0.10971824824810028, 0.010882362723350525, -0.04706621170043945, 0.04657239839434624, -0.034296467900276184, 0.03442617878317833, -0.0496404692530632, 0.014585250988602638, -0.012121649459004402, -0.13285408914089203, 0.047050029039382935, -0.02071719616651535, 0.06001737341284752, 0.014574199914932251, 0.008911359123885632, 0.002286734525114298, 0.04716602340340614, 0.03438242897391319, -0.06079953536391258, 0.014079793356359005, 0.03465615212917328, 0.04144585132598877, -0.0891789123415947, -0.0566045381128788, -0.0835319384932518, -0.08375360816717148, 0.02238568291068077, 0.05881341174244881, 0.039812132716178894, -0.05469474941492081, 0.05280223861336708, -0.009554049000144005, 0.11812502890825272, 0.053988274186849594, -0.05013333633542061, -0.017728354781866074, -0.015345875173807144, -0.006963836960494518, 0.047857291996479034, 0.04317903891205788, -0.0010581979295238853, -0.0587613545358181, 0.018984945490956306, -0.011532309465110302, 0.11344951391220093, 0.03621669486165047, -0.00383434584364295, -0.06820447742938995, 0.0132405124604702, 0.016602393239736557, -0.09857430309057236, 0.07078862190246582, 0.021691441535949707, -0.001023370074108243, 0.04721171781420708, 3.852177859996369e-32, -0.006423229817301035, 0.033488254994153976, 0.014528268948197365, 0.04720699414610863, -0.0929436907172203, -0.019785258919000626, -0.09689337760210037, 0.034317970275878906, 0.03616931289434433, -0.09267346560955048, 0.038904737681150436, -0.05591494217514992, 0.0562567338347435, -0.08508827537298203, 0.02379368059337139, 0.028874216601252556, 0.010712353512644768, 0.10465926676988602, -0.023036032915115356, -0.055224839597940445, -0.0855826810002327, 0.0920143872499466, 0.012590007856488228, 0.0017466493882238865, -0.05087079107761383, -0.037898723036050797, 0.04480414092540741, -0.03464238718152046, 0.0685521811246872, 0.035517800599336624, 0.05225042253732681, -0.02770010009407997, 0.017395706847310066, 0.08678565919399261, 0.014880580827593803, 0.07472119480371475, -0.0646403357386589, 0.10784274339675903, 0.10158834606409073, -0.04599706456065178, -0.006602074485272169, 0.02894851565361023, -0.03664414584636688, -0.022297361865639687, 0.008166681975126266, -0.04378227889537811, -0.015524359419941902, -0.09372594207525253, -0.0029912840109318495, 0.08970669656991959, 0.05921768769621849, 0.013423459604382515, 0.046341121196746826, -0.03201599046587944, 0.09078036993741989, 0.002246722113341093, 0.016627119854092598, -0.0438307486474514, 0.014466634951531887, -0.04049038514494896, 0.027568358927965164, -0.02540023997426033, -0.0029951739124953747, -0.01858036406338215]}}, {'name': 'EmbeddingModule', 'version': '0.0.1'}, 18])] is illegal)>"
     ]
    }
   ],
   "source": [
    "query = \"How can I work with GPU and taints in OpenShift AI?\"\n",
    "docs_with_score = db.similarity_search_with_score(query)"
   ]
  },
  {
   "cell_type": "code",
   "execution_count": null,
   "id": "90feeb37-7888-4c5f-a5cb-5f82637cec16",
   "metadata": {
    "tags": []
   },
   "outputs": [],
   "source": [
    "for doc, score in docs_with_score:\n",
    "    print(\"-\" * 80)\n",
    "    print(\"Score: \", score)\n",
    "    print(doc.page_content)\n",
    "    print(\"-\" * 80)"
   ]
  },
  {
   "cell_type": "code",
   "execution_count": null,
   "id": "68948ac2-232c-4b5b-8117-2574c412bd89",
   "metadata": {},
   "outputs": [],
   "source": []
  }
 ],
 "metadata": {
  "kernelspec": {
   "display_name": "Python 3.9",
   "language": "python",
   "name": "python3"
  },
  "language_info": {
   "codemirror_mode": {
    "name": "ipython",
    "version": 3
   },
   "file_extension": ".py",
   "mimetype": "text/x-python",
   "name": "python",
   "nbconvert_exporter": "python",
   "pygments_lexer": "ipython3",
   "version": "3.9.18"
  }
 },
 "nbformat": 4,
 "nbformat_minor": 5
}
